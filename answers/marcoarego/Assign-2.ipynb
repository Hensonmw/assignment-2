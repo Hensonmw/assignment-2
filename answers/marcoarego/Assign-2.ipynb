{
 "cells": [
  {
   "cell_type": "code",
   "execution_count": 8,
   "metadata": {
    "collapsed": false
   },
   "outputs": [
    {
     "name": "stdout",
     "output_type": "stream",
     "text": [
      "[ 0.38571002  0.30496505  0.79021772  0.90320773  0.53888329]\n",
      "[ 0.83076382  0.29312928  0.24709214  0.92468241  0.06779412]\n"
     ]
    }
   ],
   "source": [
    "\"\"\"Importing modules\n",
    "When importing just “numpy”, I am creating reference to that module and if I want to execute a function from it, \n",
    "I will have to type “numpy.function( )”.\"\"\"\n",
    "\n",
    "import numpy\n",
    "test = numpy.random.rand(5)\n",
    "print (test)"
   ]
  },
  {
   "cell_type": "code",
   "execution_count": 7,
   "metadata": {
    "collapsed": false
   },
   "outputs": [
    {
     "name": "stdout",
     "output_type": "stream",
     "text": [
      "[ 0.32803518  0.0906463   0.40603437  0.0106633   0.9781469 ]\n"
     ]
    }
   ],
   "source": [
    "\"\"\"When using “from numpy import *”, I will be creating name references to all functions “from numpy”. \n",
    "This means that I just need to write the function name to run that function. \n",
    "I will not need to type numpy.function, if I do that I will receive an error message.\n",
    "When using from numpy import random I will create a name reference just for the numpy function “random”. \n",
    "This will make me loose the name reference that I had for the stdlib “random” function and from now on,\n",
    "every time that I call the function “random” I will be using the numpy function. \n",
    "In the pdf there is a screenshot from spyder showing that I would replace the random module from the stdlib \n",
    "by the one from numpy\"\"\"\n",
    "\n",
    "from numpy import random\n",
    "test2 = random.rand(5)\n",
    "print (test2)"
   ]
  },
  {
   "cell_type": "code",
   "execution_count": null,
   "metadata": {
    "collapsed": true
   },
   "outputs": [],
   "source": [
    "'''Paths\n",
    "1. C:\\Users\\Username\\Desktop\\File.txt\n",
    "2. C:\\Windows\\File.txt\n",
    "3. PATH is an environment variable that specifies directories where executable programs are located \n",
    "(Wikipedia - https://en.wikipedia.org/wiki/PATH_(variable)).\n",
    "4. I was not able to locate the Pythonpath setting/variable in my computer (Windows 8.1). \n",
    "PYTHONPATH sets the search path for importing python modules (http://stackoverflow.com/questions/7850908/what-exactly-should-be-set-in-pythonpath)'''"
   ]
  },
  {
   "cell_type": "code",
   "execution_count": null,
   "metadata": {
    "collapsed": true
   },
   "outputs": [],
   "source": [
    "'''Modules\n",
    "The csv module deals with .CSV file reading and writing. This file format is commonly used for spreadsheets and databases \n",
    "applications. I already worked with this module and it is a good and straightforward tool to write and read csv files in general.\n",
    "I think this module might be useful for me during this class because with it I will be able to easily manipulate data from \n",
    "spreadsheets, joining different tables and matching columns with similar fields between them. This module has specific functions\n",
    "just to read files (csv.reader) or to write new csv files (csv.write). Other functions will be useful to set and discover which \n",
    "type of csv file are you dealing with, since different applications might use slightly different configurations for their files,\n",
    "such as different types of separators (commas, tabulations, etc.). Even with csv files with different types of delimiters and \n",
    "quoting characters this package does an excellent job in hiding these nasty details. With this module I will be able to manage \n",
    "relatively large tables in an easy and fast way. Bellow there is a code example obtained at the module website \n",
    "(https://docs.python.org/3/library/csv.html#module-csv). In this example the code is opening a file named “names.csv” and it is \n",
    "creating new rows inside of it, adding different entries in the original file.'''\n",
    "\n",
    "'''\n",
    "import csv with open('names.csv', 'w') as csvfile: \n",
    "    fieldnames = ['first_name', 'last_name'] \n",
    "    writer = csv.DictWriter(csvfile, fieldnames=fieldnames) \n",
    "    \n",
    "    writer.writeheader() \n",
    "    writer.writerow({'first_name': 'Baked', 'last_name': 'Beans'}) \n",
    "    writer.writerow({'first_name': 'Lovely', 'last_name': 'Spam'}) \n",
    "    writer.writerow({'first_name': 'Wonderful', 'last_name': 'Spam'})\n",
    "'''"
   ]
  }
 ],
 "metadata": {
  "kernelspec": {
   "display_name": "Python 3",
   "language": "python",
   "name": "python3"
  },
  "language_info": {
   "codemirror_mode": {
    "name": "ipython",
    "version": 3
   },
   "file_extension": ".py",
   "mimetype": "text/x-python",
   "name": "python",
   "nbconvert_exporter": "python",
   "pygments_lexer": "ipython3",
   "version": "3.5.1"
  }
 },
 "nbformat": 4,
 "nbformat_minor": 0
}

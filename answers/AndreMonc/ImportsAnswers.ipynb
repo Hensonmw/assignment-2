{
 "cells": [
  {
   "cell_type": "code",
   "execution_count": 2,
   "metadata": {
    "collapsed": false
   },
   "outputs": [
    {
     "name": "stdout",
     "output_type": "stream",
     "text": [
      "This doesn't work because .rand is not supported by standard library's random\n"
     ]
    },
    {
     "ename": "AttributeError",
     "evalue": "module 'random' has no attribute 'rand'",
     "output_type": "error",
     "traceback": [
      "\u001b[0;31m---------------------------------------------------------------------------\u001b[0m",
      "\u001b[0;31mAttributeError\u001b[0m                            Traceback (most recent call last)",
      "\u001b[0;32m<ipython-input-2-4d2ec3aa416b>\u001b[0m in \u001b[0;36m<module>\u001b[0;34m()\u001b[0m\n\u001b[1;32m     31\u001b[0m \u001b[0;32mimport\u001b[0m \u001b[0mrandom\u001b[0m \u001b[0;31m#importing 'random' module from standard library\u001b[0m\u001b[0;34m\u001b[0m\u001b[0m\n\u001b[1;32m     32\u001b[0m \u001b[0mprint\u001b[0m\u001b[0;34m(\u001b[0m\u001b[0;34m\"This doesn't work because .rand is not supported by standard library's random\"\u001b[0m\u001b[0;34m)\u001b[0m\u001b[0;34m\u001b[0m\u001b[0m\n\u001b[0;32m---> 33\u001b[0;31m \u001b[0mrandom\u001b[0m\u001b[0;34m.\u001b[0m\u001b[0mrand\u001b[0m\u001b[0;34m(\u001b[0m\u001b[0;36m2\u001b[0m\u001b[0;34m,\u001b[0m \u001b[0;36m4\u001b[0m\u001b[0;34m)\u001b[0m \u001b[0;31m#This doesn't work because .rand is not supported by standard library's 'random'\u001b[0m\u001b[0;34m\u001b[0m\u001b[0m\n\u001b[0m\u001b[1;32m     34\u001b[0m \u001b[0;34m\u001b[0m\u001b[0m\n\u001b[1;32m     35\u001b[0m \u001b[0;32mfrom\u001b[0m \u001b[0mnumpy\u001b[0m \u001b[0;32mimport\u001b[0m \u001b[0mrandom\u001b[0m \u001b[0;31m#importing 'random' function from numpy, which will than take name priority over standard library 'random'\u001b[0m\u001b[0;34m\u001b[0m\u001b[0m\n",
      "\u001b[0;31mAttributeError\u001b[0m: module 'random' has no attribute 'rand'"
     ]
    }
   ],
   "source": [
    "#1. a) Import numpy--This command will import the entire numpy module with all the functions \n",
    "#      it contains, but will require you to use qualified names to access definitions of the\n",
    "#      module.\n",
    "#   b) from numpy import *--This command will import the entire numpy module with all the functions \n",
    "#      it contains, but will not require you to use qualified names to access definitions of \n",
    "#      the module.\n",
    "#   c) from numpy import random--This command will import the single function 'random'\n",
    "\n",
    "#2. I think each could be preferred in different scenarios:\n",
    "#   a) Import numpy--This command would be preferable if you want the entire numpy module but\n",
    "#      you want to maintain maximal flexibility in your code. With this command it is necessary \n",
    "#      to write numpy.random, for example, to access numpy's random function. However, you have the \n",
    "#      benefit of clearly seeing from what package 'random' was taken. Also, if there is a \n",
    "#      'random' function from another package, then you can use that function as well without \n",
    "#      any name conflict.\n",
    "#   b) from numpy import *--This command would (rarely) be preferable if you want the convenience of \n",
    "#      not having to type out the qualifier names for specific definitions. You would just want\n",
    "#      to make sure that you were not using other packages with the same definition names, \n",
    "#      otherwise the most recently imported package would overwrite conflicting definition names\n",
    "#      of the previously imported package.\n",
    "#   c) from numpy import random--This command would be preferable if you know that the only \n",
    "#      function you want to use from the numpy module is 'random'. This command is highly \n",
    "#      efficient and desirable in this scenario because you are not importing a bunch of \n",
    "#      uneeded functions.\n",
    "\n",
    "#I got help for answering questions 1 and 2 from here:\n",
    "#https://mail.python.org/pipermail/tutor/2007-November/058454.html\n",
    "\n",
    "#3. The stdlib random will be replaced by the numpy version of random.\n",
    "#Example:\n",
    "import random #importing 'random' module from standard library\n",
    "print(\"This doesn't work because .rand is not supported by standard library's random\")\n",
    "random.rand(2, 4) #This doesn't work because .rand is not supported by standard library's 'random'\n",
    "\n",
    "#Now run this code\n",
    "from numpy import random #importing 'random' function from numpy, which will than take name priority over standard library 'random'\n",
    "print(\"This works because numpy's 'random' supports .rand\")\n",
    "random.rand(2,4) #This works because numpy's 'random' supports .rand"
   ]
  },
  {
   "cell_type": "code",
   "execution_count": 3,
   "metadata": {
    "collapsed": false
   },
   "outputs": [
    {
     "name": "stdout",
     "output_type": "stream",
     "text": [
      "This works because numpy's 'random' supports .rand\n"
     ]
    },
    {
     "data": {
      "text/plain": [
       "array([[ 0.31282569,  0.36798785,  0.61460366,  0.05077228],\n",
       "       [ 0.75314658,  0.27987698,  0.15699268,  0.5417129 ]])"
      ]
     },
     "execution_count": 3,
     "metadata": {},
     "output_type": "execute_result"
    }
   ],
   "source": [
    "from numpy import random #importing 'random' function from numpy, which will than take name priority over standard library 'random'\n",
    "print(\"This works because numpy's 'random' supports .rand\")\n",
    "random.rand(2,4) #This works because numpy's 'random' supports .rand"
   ]
  },
  {
   "cell_type": "code",
   "execution_count": null,
   "metadata": {
    "collapsed": true
   },
   "outputs": [],
   "source": []
  }
 ],
 "metadata": {
  "kernelspec": {
   "display_name": "Python 3",
   "language": "python",
   "name": "python3"
  },
  "language_info": {
   "codemirror_mode": {
    "name": "ipython",
    "version": 3
   },
   "file_extension": ".py",
   "mimetype": "text/x-python",
   "name": "python",
   "nbconvert_exporter": "python",
   "pygments_lexer": "ipython3",
   "version": "3.5.1"
  }
 },
 "nbformat": 4,
 "nbformat_minor": 0
}

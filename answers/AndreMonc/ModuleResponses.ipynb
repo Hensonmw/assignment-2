{
 "cells": [
  {
   "cell_type": "code",
   "execution_count": null,
   "metadata": {
    "collapsed": true
   },
   "outputs": [],
   "source": [
    "# The matplotlib library was developed by John D. Hunter, and can be imported into Python \n",
    "# for the purpose of creating various charts and graphs such as line plots, histograms, \n",
    "# scatter plots, 3D plots, and much more. It is designed to produce professional level \n",
    "# figures, and is thus of great use to those who want to visually represent their data. \n",
    "# There is a much flexibility built into this library, so that you can produce a highly \n",
    "# customized figure, assuming you have the python coding skills to do so.\n",
    "\n",
    "# The matplotlib.org site has an examples page showing a huge range of possible plotting \n",
    "# scenarios that work effectively with matplotlib tools. \n",
    "\n",
    "# I have heard that many people prefer to use R for all plotting and figures. However, \n",
    "# matplotlib, used in Python, demonstrates a high degree of sophistication and flexibility. \n",
    "# Since I already have a background in Python (and none in R) I want to work on developing \n",
    "# my plotting skills in Python. Thus, I will be needing to learn a lot about matplotlib. \n",
    "# There are even some features that matplotlib has provided which are meant to assuage and \n",
    "# perhaps attract R users. The “ggplot” style popular among R user, for instance, is also \n",
    "# available through matplotlib. \n",
    "\n",
    "# Within the matplotlib library is the pyplot module that alone can produce many kinds of \n",
    "# cool figures. It has the advantage of working very similarly to MATLAB, which makes it \n",
    "# easier for those users with MATLAB experience.\n",
    "\n",
    "# Here is a super simple example of my first customized figure in Python using matplotlib\n",
    "#with help from matplotlib.org:\n",
    "import matplotlib.pyplot as plt\n",
    "plt.plot([1,2,3,4])\n",
    "plt.ylabel('Andres Improvement in Plotting Figures')\n",
    "plt.xlabel('Hours of Practice')\n",
    "plt.show()\n",
    "\n",
    "#Here is a histogram that I made with help from an example on wikipedia\n",
    "import matplotlib.pyplot as plt\n",
    "from numpy.random import normal\n",
    "x = normal(size=50)\n",
    "plt.hist(x,bins=7)\n",
    "plt.ylabel('Andres Improvement in Plotting Figures')\n",
    "plt.xlabel('Temperature Outside in Degrees Celsius')\n",
    "plt.show()\n",
    "\n",
    "# References:\n",
    "# https://en.wikipedia.org/wiki/Matplotlib\n",
    "# http://matplotlib.org/index.html#\n",
    "# http://matplotlib.org/users/beginner.html\n",
    "\n",
    "    "
   ]
  },
  {
   "cell_type": "code",
   "execution_count": null,
   "metadata": {
    "collapsed": true
   },
   "outputs": [],
   "source": []
  }
 ],
 "metadata": {
  "kernelspec": {
   "display_name": "Python 3",
   "language": "python",
   "name": "python3"
  },
  "language_info": {
   "codemirror_mode": {
    "name": "ipython",
    "version": 3
   },
   "file_extension": ".py",
   "mimetype": "text/x-python",
   "name": "python",
   "nbconvert_exporter": "python",
   "pygments_lexer": "ipython3",
   "version": "3.5.1"
  }
 },
 "nbformat": 4,
 "nbformat_minor": 0
}

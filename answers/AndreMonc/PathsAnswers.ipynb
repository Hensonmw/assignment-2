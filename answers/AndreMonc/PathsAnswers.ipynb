{
 "cells": [
  {
   "cell_type": "code",
   "execution_count": null,
   "metadata": {
    "collapsed": true
   },
   "outputs": [],
   "source": [
    "#1. I created a file called \"Path_practice\" on my Desktop. The path for this file is:\n",
    "#/Users/Andre/Desktop/Path_practice.docx\n",
    "\n",
    "#2. I moved \"Path_practice\" to my root directory. It's file path changed to this:\n",
    "#/Path_practice.docx #(Just a forward slash and then the file name)\n",
    "\n",
    "#3. The variable called PATH \"specifies the directories in which executable programs \n",
    "#   are located on the machine that can be started without knowing and typing the whole \n",
    "#   path to the file on the command line\". Reference:\n",
    "#http://superuser.com/questions/284342/what-are-path-and-other-environment-variables-and-how-can-i-set-or-use-them\n",
    "\n",
    "#4. The PYTHONPATH environmental variable \"lists the directories Python should look in \n",
    "#   \"(besides the default ones) when a script imports a module.\" Thus, the PYTHONPATH\n",
    "#   makes accessing files used by python very easy. Reference:\n",
    "#https://geosci.uchicago.edu/~rtp1/PrinciplesPlanetaryClimate/Python/ShellsNStuff.html"
   ]
  }
 ],
 "metadata": {
  "kernelspec": {
   "display_name": "Python 3",
   "language": "python",
   "name": "python3"
  },
  "language_info": {
   "codemirror_mode": {
    "name": "ipython",
    "version": 3
   },
   "file_extension": ".py",
   "mimetype": "text/x-python",
   "name": "python",
   "nbconvert_exporter": "python",
   "pygments_lexer": "ipython3",
   "version": "3.5.1"
  }
 },
 "nbformat": 4,
 "nbformat_minor": 0
}

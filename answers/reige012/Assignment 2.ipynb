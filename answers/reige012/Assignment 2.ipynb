{
 "cells": [
  {
   "cell_type": "markdown",
   "metadata": {},
   "source": [
    "IMPORTS\n",
    "\n",
    "1. How are these import methods different from eachother.\n",
    "     -- import numpy\n",
    "        -- This method is used to import a particular module (numpy in this case) and importantly it creates a reference to that module so that everything related to that module is stored in the same numpy namespace. After you import the module anything listed as numpy.___ will refer to this module.'\n",
    "     -- from numpy import*\n",
    "        -- This method imports the module and creates specific references to all of the objects/functions related to that module in the current namespace. So to run functions you wouldn't need to use numpy.___ you could simply say __. However, the only problem with that is if you have already defined ___ in another module it could get overwritten with this new uploaded module version, and if you ever change ___ later the module doesn't recognize the change.\n",
    "     -- from numpy import random\n",
    "        -- This will import just 'random' function from numpy instead of the entire module.\n",
    "\n",
    "2. Which of the above do you think is preferred? Why?\n",
    "        I think the preferred method is \"import numpy\" because this creates a defined namespace for that module and all of the functions inside of it. That eliminates any conflicts with functions of the same name in modules you already have downloaded or modules you download in the future.  \n",
    "\n",
    "3. What happens to the stdlib module random if you run from numpy import random? Provide an example.\n",
    "        **note to self- stdlib=standard library. If you do 'from numpy import random' the random function in your standard library on python will be overwritten and you won't be able to access it anymore. Instead when you use numpy.random that is the only random package available to you. \n",
    "Example : from numpy import random\n",
    "          See example below. random.sample does not work because I have imported random from numpy. And you can see that when I use the np.random.random_sample that function does work. Note that I previously imported numpy as np. \n",
    "        \n",
    "        \n",
    "Sources: http://effbot.org/zone/import-confusion.htm (accessed 1/20/2016); http://www.gossamer-threads.com/lists/python/dev/650449 (accessed 1/20/2016); http://docs.scipy.org/doc/numpy/reference/generated/numpy.random.sample.html#numpy.random.sample "
   ]
  },
  {
   "cell_type": "code",
   "execution_count": 86,
   "metadata": {
    "collapsed": false,
    "scrolled": true
   },
   "outputs": [
    {
     "ename": "TypeError",
     "evalue": "random_sample() takes at most 1 positional argument (2 given)",
     "output_type": "error",
     "traceback": [
      "\u001b[1;31m---------------------------------------------------------------------------\u001b[0m",
      "\u001b[1;31mTypeError\u001b[0m                                 Traceback (most recent call last)",
      "\u001b[1;32m<ipython-input-86-24b1e5b1fb8e>\u001b[0m in \u001b[0;36m<module>\u001b[1;34m()\u001b[0m\n\u001b[1;32m----> 1\u001b[1;33m \u001b[0mrandom\u001b[0m\u001b[1;33m.\u001b[0m\u001b[0msample\u001b[0m \u001b[1;33m(\u001b[0m\u001b[0mrange\u001b[0m \u001b[1;33m(\u001b[0m\u001b[1;36m1000000\u001b[0m\u001b[1;33m)\u001b[0m\u001b[1;33m,\u001b[0m\u001b[1;36m10\u001b[0m\u001b[1;33m)\u001b[0m\u001b[1;33m\u001b[0m\u001b[0m\n\u001b[0m",
      "\u001b[1;32mmtrand.pyx\u001b[0m in \u001b[0;36mmtrand.RandomState.random_sample (numpy\\random\\mtrand\\mtrand.c:10361)\u001b[1;34m()\u001b[0m\n",
      "\u001b[1;31mTypeError\u001b[0m: random_sample() takes at most 1 positional argument (2 given)"
     ]
    }
   ],
   "source": [
    "random.sample (range (1000000),10)"
   ]
  },
  {
   "cell_type": "code",
   "execution_count": 87,
   "metadata": {
    "collapsed": false
   },
   "outputs": [
    {
     "data": {
      "text/plain": [
       "array([[-3.8359272 , -3.79004801],\n",
       "       [-2.22038734, -3.90443471],\n",
       "       [-1.14528288, -0.82456538]])"
      ]
     },
     "execution_count": 87,
     "metadata": {},
     "output_type": "execute_result"
    }
   ],
   "source": [
    "5 * np.random.random_sample((3, 2)) - 5"
   ]
  },
  {
   "cell_type": "markdown",
   "metadata": {},
   "source": [
    "PATHS\n",
    "\n",
    "1. On your computer, create a file on the Desktop. What's the path to that file (e.g. the file path)? \n",
    "        Path to the file = C:\\Users\\Alicia\\Desktop\\test.docx\n",
    "\n",
    "2. If you created a file in the root directory of your computer, what would that file path be?\n",
    "        The file path in the root directory of windows isn't really that clear because the \"root\" changes based on your working directory. But say that you are planning on being in the C (hard drive directory) then the path would be C:\\test.docx\n",
    "    \n",
    "3. On your computer, there is a setting/variable called ($PATH). What does that setting do?\n",
    "        This setting allows you to \"tell\" Python about a specific location/directory on your computer.  When you update this variable with a new location any executable files you have in that location are now usable in Python because it knows where to find them. ***Note to Self: Windows always looks for executables in the current directory unless you update the path or you specify it*\n",
    "\n",
    "4. On your computer, there is a setting/variable called {$PYTHONPATH}. What does that setting do? \n",
    "        This variable allows you to set the pather for importing python modules. So if you want to import a module you have saved in a different directory than python you can alter the PYTHONPATH to direct it to the new location to search for modules. "
   ]
  },
  {
   "cell_type": "markdown",
   "metadata": {
    "collapsed": true
   },
   "source": [
    "MODULES\n",
    "\n",
    "1. The module I plan to use is NumPy (fondly known in python as numpy).  This package is a fairly basic, but fundamentally important package for scientific computing on Python and it has the ability to handle data that Python cannot support.  Some of the more important features include the ability to use vectorized code which can increase the speed of calculations and can be written on fewere lines decreasing the potential for errors and making it easier to read/process. NumPy also helps to increase the statistical computation that can be done by Python by using a special array called ndarray which are of fixed size in oppostion of Python arrays that can grow dynamically.  What this really means is that the fixed array size allows NumPy to deal with large data sets at fast speeds with less codes. Furthermore, NumPy is integrated in or compatible with many other 3rd party modules/packages used on python, particuarily those useful in processing bioinformatics data sets. I think that NumPy will be useful for this class, and my future research, because it was created for use with biological datasets that are often too large or complicated for GUI interfaces to handle and could be slow if done using standard Python arrays. Already looking back at my thesis microsatellite data I am contemplating way I could have used NumPy to make sorting the data out much simpler for me. I have used that data in my one of my two examples. \n",
    "\n",
    "Sources: http://docs.scipy.org/doc/numpy-1.10.1/user/whatisnumpy.html (accessed 1/20/2016) ; http://www.engr.ucsb.edu/~shell/che210d/numpy.pdf (accessed 1/21/2016)"
   ]
  },
  {
   "cell_type": "code",
   "execution_count": 21,
   "metadata": {
    "collapsed": false,
    "scrolled": true
   },
   "outputs": [],
   "source": [
    "import numpy as np"
   ]
  },
  {
   "cell_type": "markdown",
   "metadata": {},
   "source": [
    "The above import numpy as np just imports the module so you can use its function as np.* when you want them. "
   ]
  },
  {
   "cell_type": "markdown",
   "metadata": {},
   "source": [
    "Example 1:\n",
    "The np.arange function allows you to give a range of numbers and a value (in the below example 10) that you would like to find all of the values for every 10 between the two numbers in the range.  There is a particular instance I know this would be useful. When I did my allele counting for my microsatellites I had an approximate fragment size, but we were using tetranucleotide markers so the alleles could fall at any 4 bp within that size range and I had to manually determine what each of those values was. This was a tedious process and would have been so much easier to use a simple function like np.arange to determine the list. np.arange is show below in its simplest format. However, it can handle huge ranges, as well as floating decimals. You can set the format of the array you want printed (how many #s per line, do you want random #s from the range, etc). This could also be useful if you need to do research randomization. np.arange is a very powerful function when used with big data sets and more specifications.\n",
    "\n",
    "Source: http://stackoverflow.com/questions/7267226/range-for-floats (accessed 1/20/2016)"
   ]
  },
  {
   "cell_type": "code",
   "execution_count": 20,
   "metadata": {
    "collapsed": false
   },
   "outputs": [
    {
     "data": {
      "text/plain": [
       "array([456, 466, 476, 486, 496, 506, 516, 526, 536, 546, 556, 566, 576,\n",
       "       586, 596, 606, 616, 626, 636, 646, 656, 666, 676, 686, 696, 706,\n",
       "       716, 726, 736, 746, 756, 766, 776])"
      ]
     },
     "execution_count": 20,
     "metadata": {},
     "output_type": "execute_result"
    }
   ],
   "source": [
    "np.arange( 456, 781, 10 )"
   ]
  },
  {
   "cell_type": "markdown",
   "metadata": {},
   "source": [
    "Example 2: In the below example I imported a small data set of my microsatellite allele data, which I named testofnumpy.txt) using np.fromfile.  I then told it that it was float data (so could be decimals), that it should count -1 or the whole sheet of data and that the data is separated by spaces (sep= ' ').  Then I used the np.sort function to arrange the alleles in increasing order so they are easier to look at. and determine if they are all actually tetranucleotides. This was a simplistic example, but used two of the organizational functions of numpy. \n",
    "\n",
    "Source: http://docs.scipy.org/doc/numpy-1.10.0/reference/generated/numpy.fromfile.html (accessed 1/21/2016); http://docs.scipy.org/doc/numpy-1.10.1/reference/generated/numpy.sort.html (accessed 1/21/2016)\n"
   ]
  },
  {
   "cell_type": "code",
   "execution_count": 60,
   "metadata": {
    "collapsed": false
   },
   "outputs": [
    {
     "data": {
      "text/plain": [
       "array([ 120.,  176.,  188.,  188.,  192.,  193.,  196.,  200.,  201.,\n",
       "        201.,  203.,  204.,  214.,  214.,  218.,  224.,  227.,  228.,\n",
       "        229.,  233.,  233.,  236.,  245.,  247.,  251.,  253.,  263.,\n",
       "        263.,  270.,  289.,  292.,  300.,  301.,  304.,  305.,  308.,\n",
       "        312.,  315.,  315.,  324.,  335.,  341.,  345.,  345.,  359.,\n",
       "        398.,  430.,  430.,  537.,  637.,  643.,  643.])"
      ]
     },
     "execution_count": 60,
     "metadata": {},
     "output_type": "execute_result"
    }
   ],
   "source": [
    "a = np.fromfile (\"c:/Users/Alicia/Desktop/Scripts/testofnumpy.txt\", dtype=float, count=-1, sep=' ')\n",
    "np.sort (a)"
   ]
  },
  {
   "cell_type": "code",
   "execution_count": null,
   "metadata": {
    "collapsed": true
   },
   "outputs": [],
   "source": []
  }
 ],
 "metadata": {
  "kernelspec": {
   "display_name": "Python 3",
   "language": "python",
   "name": "python3"
  },
  "language_info": {
   "codemirror_mode": {
    "name": "ipython",
    "version": 3
   },
   "file_extension": ".py",
   "mimetype": "text/x-python",
   "name": "python",
   "nbconvert_exporter": "python",
   "pygments_lexer": "ipython3",
   "version": "3.5.1"
  }
 },
 "nbformat": 4,
 "nbformat_minor": 0
}

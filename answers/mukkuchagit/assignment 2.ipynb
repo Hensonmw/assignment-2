{
 "cells": [
  {
   "cell_type": "markdown",
   "metadata": {},
   "source": [
    "# Imports"
   ]
  },
  {
   "cell_type": "markdown",
   "metadata": {},
   "source": [
    "import numpy\n",
    "\n",
    "from numpy import *\n",
    "\n",
    "from numpy import random\n",
    "\n",
    "1)How are these different from each other? Be specific.\n",
    "\n",
    "Answer: \"import numpy\" is a numeric python module. It provides basic routines for manipulating large arrays and matrices of numeric data. we can also then reference anything from that moudule as numpy._ _ _. (source: http://www.engr.ucsb.edu/~shell/che210d/numpy.pdf). eg. \n",
    "\n",
    "import numpy \n",
    "numpy.random.uniform(0,1000,10)\n",
    "\n",
    "\"from numpy import*\"- \"from\" loads a Python module into the current namespace, so that we can refer to it without the need to mention the module name(numpy) again. (source: http://www.wellho.net/mouth/418_Difference-between-import-and-from-in-Python.html) eg.\n",
    "\n",
    "from numpy import*\n",
    "random.uniform(0,1000,10)\n",
    "\n",
    "\"from numpy import random\"- this will generate particular 'random' function from whole numpy module. eg:\n",
    "\n",
    "from numpy import random \n",
    "random.uniform (0,1000,10)\n",
    "\n",
    "\n"
   ]
  },
  {
   "cell_type": "markdown",
   "metadata": {},
   "source": [
    "2)Which of the above do you think is preferred? Why?\n",
    "\n",
    "Answer: If we were to load a lot of modules using from, you would find sooner or later that there is a conflict of names; 'from' is fine only for a small program but if it is used throughout a big program, we would hit problems from time to time. So it is wise to use 'import' most of the time, but use 'from' when we want to refer to the members of a module many, many times in the calling code; that way, we save time to write \"numpy.\" time after time. (source: http://www.wellho.net/mouth/418_Difference-between-import-and-from-in-Python.html)"
   ]
  },
  {
   "cell_type": "markdown",
   "metadata": {},
   "source": [
    "\n",
    "3)What happens to the stdlib module random if you run from numpy import random? Provide an example.\n",
    "Paths"
   ]
  },
  {
   "cell_type": "markdown",
   "metadata": {},
   "source": [
    "# Paths"
   ]
  },
  {
   "cell_type": "markdown",
   "metadata": {},
   "source": [
    "a PATH is the directory where the file is located in computer. eg: c:/Users/mukkucha/desktop/anyfile"
   ]
  },
  {
   "cell_type": "markdown",
   "metadata": {
    "collapsed": true
   },
   "source": [
    "# Modules\n",
    "\n"
   ]
  },
  {
   "cell_type": "code",
   "execution_count": null,
   "metadata": {
    "collapsed": true
   },
   "outputs": [],
   "source": [
    "Modules are basically files which contain definitions that provide helpful functionality. (source: http://www.cc.gatech.edu/classes/AY2014/cs2316_spring/codesamples/InstallingModules-Windows.pdf).And the third party modules are the ones which are not from python itself. Like: Biopython. Some are free and some are not."
   ]
  }
 ],
 "metadata": {
  "kernelspec": {
   "display_name": "Python 3",
   "language": "python",
   "name": "python3"
  },
  "language_info": {
   "codemirror_mode": {
    "name": "ipython",
    "version": 3
   },
   "file_extension": ".py",
   "mimetype": "text/x-python",
   "name": "python",
   "nbconvert_exporter": "python",
   "pygments_lexer": "ipython3",
   "version": "3.5.1"
  }
 },
 "nbformat": 4,
 "nbformat_minor": 0
}

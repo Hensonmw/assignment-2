{
 "cells": [
  {
   "cell_type": "markdown",
   "metadata": {},
   "source": [
    "# Task 1\n",
    "\n",
    "There are lots of ways to run programs in python (and in ipython).  \n",
    "\n",
    "* you can just paste the program I have you into an iPython window:"
   ]
  },
  {
   "cell_type": "code",
   "execution_count": 1,
   "metadata": {
    "collapsed": false
   },
   "outputs": [
    {
     "name": "stdout",
     "output_type": "stream",
     "text": [
      "Python sys.version_info(major=3, minor=5, micro=1, releaselevel='final', serial=0)\n",
      "Hello world\n"
     ]
    }
   ],
   "source": [
    "#!/usr/bin/env python\n",
    "# encoding: utf-8\n",
    "\n",
    "\"\"\"\n",
    "my first little program\n",
    "\n",
    "Created by Brant Faircloth on 18 Jan 2016.\n",
    "Copyright 2016 Brant C. Faircloth. All rights reserved.\n",
    "\n",
    "\"\"\"\n",
    "\n",
    "import sys\n",
    "\n",
    "print(\"Python {}\".format(sys.version_info))\n",
    "print(\"Hello world\")"
   ]
  },
  {
   "cell_type": "markdown",
   "metadata": {},
   "source": [
    "* you can save the text as a file, say, in `my_first_little_program.py`.  Then you can run that with the `%run` magic method that comes with iPython:"
   ]
  },
  {
   "cell_type": "code",
   "execution_count": 2,
   "metadata": {
    "collapsed": false
   },
   "outputs": [
    {
     "name": "stdout",
     "output_type": "stream",
     "text": [
      "Python sys.version_info(major=3, minor=5, micro=1, releaselevel='final', serial=0)\n",
      "Hello world\n"
     ]
    }
   ],
   "source": [
    "%run my_first_little_program.py"
   ]
  },
  {
   "cell_type": "markdown",
   "metadata": {},
   "source": [
    "* You can also  skip iPython altogether, and run the code by calling the `python` executable and giving it the path (in this case the full path) to the file, like:\n",
    "\n",
    "```\n",
    "python /Users/bcf/Dropbox\\ \\(faircloth-lab\\)/Classes/BIOL7800/my-assignments/assignment-2/my_first_little_program.py\n",
    "```\n",
    "\n",
    "* Finally, you can actually skip calling the python executable.  There is a magic line at the top of the code that tells (unix-like) operating systems that this is a python file and that when we execute this file, the OS should call `python` and feed it this file.  To run a program like this, we must make it executable (again on unix/linux/osx), then just add in the program name.  Something like the following would work:\n",
    "\n",
    "```\n",
    "cd /Users/bcf/Dropbox\\ \\(faircloth-lab\\)/Classes/BIOL7800/my-assignments/assignment-2/\n",
    "chmod 0755 my_first_little_program.py\n",
    "./my_first_little_program.py\n",
    "```"
   ]
  },
  {
   "cell_type": "markdown",
   "metadata": {},
   "source": [
    "# Import\n",
    "\n",
    "1. Descriptions\n",
    "\n",
    "    `import numpy`\n",
    "\n",
    "    imports the numpy module into the program namespace.  to call *any* class/function/method in numpy, we will need to prefix that class/function/method with `numpy.`.  So, if we want to use the random function in numpy, we need to call it with `numpy.random`.\n",
    "\n",
    "    `from numpy import *`\n",
    "\n",
    "    imports all functions/classes/methods from numpy into the current namespace.  this is usually frowned upon - you can actually clobber other functions/classes/methods having the same names by doing this and/or something won't work and you wont be sure why.\n",
    "\n",
    "    `from numpy import random`\n",
    "\n",
    "    this imports only the random function from numpy into the current namespace.  that means we can call `random()` without prefixing it with `numpy.`.\n",
    "\n",
    "2. `import numpy` is almost always preferred (i would always mantain the namespace of any module you import - bad things happen when you don't.\n",
    "\n",
    "3. If you run `from numpy import random` after running `import random`, the `numpy.random()` function replaces the stdlib `random` namespace.  This is bad.\n",
    "\n"
   ]
  },
  {
   "cell_type": "markdown",
   "metadata": {},
   "source": [
    "# Paths\n",
    "\n",
    "1. /Users/bcf/Desktop/temp.txt\n",
    "2. /temp.txt\n",
    "3. \\$PATH is an \"environment variable\" that determines the locations and search order for executables on your machine.  Essentially, it keeps you from having to type the path to a given executable all the time.  For example, the `ls` command is located at `/bin/ls`, but because `/bin` is in my \\$PATH, I only need to type `ls` to get a directory listing.\n",
    "\n",
    "    You can edit your path (and you, in fact have) by adding new entries to it.  For instance, my $PATH (which is located in my .zshrc [and maybe in your .bashrc]) looks like:\n",
    "\n",
    "    `export PATH=$HOME/bin:$HOME/bin/18-Dec-2013-Kent-Source-OSX-x86_64:$HOME/Anaconda/bin:/Applications/Postgres.app/Contents/Versions/9.3/bin:$PATH`"
   ]
  },
  {
   "cell_type": "markdown",
   "metadata": {},
   "source": [
    "# Modules\n",
    "\n",
    "Two of my favorites are:\n",
    "\n",
    "* [Collections](https://docs.python.org/3.5/library/collections.html)\n",
    "* [itertools](https://docs.python.org/3.5/library/itertools.html)"
   ]
  },
  {
   "cell_type": "code",
   "execution_count": null,
   "metadata": {
    "collapsed": true
   },
   "outputs": [],
   "source": []
  }
 ],
 "metadata": {
  "kernelspec": {
   "display_name": "Python 3",
   "language": "python",
   "name": "python3"
  },
  "language_info": {
   "codemirror_mode": {
    "name": "ipython",
    "version": 3
   },
   "file_extension": ".py",
   "mimetype": "text/x-python",
   "name": "python",
   "nbconvert_exporter": "python",
   "pygments_lexer": "ipython3",
   "version": "3.5.1"
  }
 },
 "nbformat": 4,
 "nbformat_minor": 0
}

{
 "cells": [
  {
   "cell_type": "markdown",
   "metadata": {},
   "source": [
    "`If we use import numpy, all sub-modules and functions in the numpy module can only be accesses in the numpy.namespace. For example numpy.array([1,2,3]) If we use from numpy import , all functions will be loaded into the local namespace. For examplearray([1,2,3]). From numpy import import NumPy directly into the current namespace so that we don't have to use dot notation at all, but rather simply call the functions as if they were built in,however, this strategy is usually frowned upon in Python programming because it starts to remove some of the nice organization that modules provide. If a module contains more than one function, using from numpy import will give you direct access to all of them.However if you use from numpy import random, we'll only have access to that specific function, and no others.`\n",
    "\n",
    "`Random is a module in stdlib and aslo it is a subpackage of numpy . If you use import random, we have access to all of the functions, but you must prefix them with the module name, e.g. random.uniform(a,b) because you imported the module itself, not the functions specifically, into your 'namespace'. From numpy import random we have access to random from numpy and we can just type random to recall it.`\n",
    "\n",
    "\"http://www.engr.ucsb.edu/~shell/che210d/numpy.pdf\" "
   ]
  },
  {
   "cell_type": "markdown",
   "metadata": {},
   "source": [
    "`I prefer import numpy to have acess to all function `"
   ]
  },
  {
   "cell_type": "code",
   "execution_count": 1,
   "metadata": {
    "collapsed": false
   },
   "outputs": [
    {
     "name": "stdout",
     "output_type": "stream",
     "text": [
      "[ 353400.32273407  385072.17714591  459726.8832631   945307.58702795\n",
      "  673471.95900654  524819.68558698   87226.77424683  361563.30152812\n",
      "  753259.79098161  398068.02046808]\n"
     ]
    }
   ],
   "source": [
    "import numpy \n",
    "s = numpy.random.uniform(0,1000000,10)\n",
    "print(s)"
   ]
  },
  {
   "cell_type": "code",
   "execution_count": 3,
   "metadata": {
    "collapsed": false
   },
   "outputs": [
    {
     "name": "stdout",
     "output_type": "stream",
     "text": [
      "[ 360044.2295349   684927.69429792   64609.77843291  881052.97511002\n",
      "   16779.74447833  708696.18582378  117124.20032218  724049.37545309\n",
      "  511874.46991561  537479.86148094]\n"
     ]
    }
   ],
   "source": [
    "from numpy import *\n",
    "s = random.uniform (0,1000000,10)\n",
    "print (s)"
   ]
  },
  {
   "cell_type": "code",
   "execution_count": 5,
   "metadata": {
    "collapsed": false
   },
   "outputs": [
    {
     "name": "stdout",
     "output_type": "stream",
     "text": [
      "[ 900520.45866331  611728.27695138  350673.98205709  954803.03256282\n",
      "  652019.72378967   92158.1199884   826737.04378282  454027.36419052\n",
      "  529964.45052146    1777.96757478]\n"
     ]
    }
   ],
   "source": [
    "from numpy import random \n",
    "s = random.uniform (0,1000000,10)\n",
    "print (s)\n"
   ]
  },
  {
   "cell_type": "markdown",
   "metadata": {},
   "source": [
    "`PATH: This the path to path file in my desktop: c:\\Users\\Maryam Foroozani\\Desktop\\path , in python the path should be 'c:\\Users\\Maryam Foroozani\\Desktop\\path this the path for the file in root directory: C:\\maryam in windows , in python it should be 'c:\\Maryam' `"
   ]
  },
  {
   "cell_type": "markdown",
   "metadata": {},
   "source": [
    "`PATH: It specifies the directories in which executable programs* are located on the machine that can be started without knowing and typing the whole path to the file on the command line. (Or in Windows, the Run dialog in the Start Menu or Win+R).`\n",
    "\n",
    "`On Linux and Mac OS X, it usually holds all bin and sbin directories relevant for the current user. On Windows, it contains at least the C:\\Windows and C:\\Windows\\system32 directories`\n",
    "\"http://superuser.com/questions/284342/what-are-path-and-other-environment-variables-and-how-can-i-set-or-use-them\""
   ]
  },
  {
   "cell_type": "markdown",
   "metadata": {},
   "source": [
    "`PYTHONPATH\tIt has a role similar to PATH. This variable tells the Python interpreter where to locate the module files imported into a program. It should include the Python source library directory and the directories containing Python source code. PYTHONPATH is sometimes preset by the Python installer.`\n",
    "\"http://www.tutorialspoint.com/python/python_environment.htm\""
   ]
  },
  {
   "cell_type": "markdown",
   "metadata": {},
   "source": [
    "`SciPy : Scientific Computing Tools for Python\n",
    "scipy is one of the most commonly used Python modules.it has a collection of open source software for scientific computing in Python. Its core packages ( Python, ipython, numpy, scipylibrary, matplotlib, pandas, symy, nose) includes modules for graphics and plotting, optimization, integration, special functions, signal and image processing, genetic algorithms, ODE solvers, and others. \n",
    "There are  several  useful functions in Scipy module. Because Scipy builds on Numpy, so we can use all Numpy functions such as array creation, array  types and conversion ,… Some SciPy basic functions are polynomials, vectorizing function, type handling. \n",
    "There is a useful sub- package in Scipy which specifically can help to solve many problems in biology that needs statistics. It is Scipy.stats package.  Over 80 continuous random variables (RVs) and 10 discrete random variables  are located in the sub-package scipy.stats. We can use the t-test in Scipy module  to test whether the mean of our sample differs in a statistcally significant way from the theoretical expectation. As an example:  \n",
    "print 't-statistic = %6.3f pvalue = %6.4f' %  stats.ttest_1samp(x, m) t-statistic =  0.391 pvalue = 0 The pvalue is 0.7, this means that with an alpha error of, for example, 10%, we cannot reject the hypothesis that the sample mean is equal to zero, the expectation of the standard t-distribution..6955\n",
    "Another SciPy sub-package is Multidimensional image processing (scipy.ndimage) .Image processing and analysis are generally seen as operations on two-dimensional arrays of values. But for  biological imaging images of higher dimensionality must be analyzed .The scipy.ndimage packages provides a number of general image processing and analysis functions that are designed to operate with arrays of arbitrary dimensionality. The packages currently includes functions for linear and non-linear filtering, binary morphology, B-spline interpolation, and object measurements.\n",
    "Reference:  http://www.scipy.org/ `\n",
    "\n",
    "\n",
    "\n"
   ]
  },
  {
   "cell_type": "code",
   "execution_count": null,
   "metadata": {
    "collapsed": true
   },
   "outputs": [],
   "source": []
  },
  {
   "cell_type": "code",
   "execution_count": null,
   "metadata": {
    "collapsed": true
   },
   "outputs": [],
   "source": []
  }
 ],
 "metadata": {
  "kernelspec": {
   "display_name": "Python 3",
   "language": "python",
   "name": "python3"
  },
  "language_info": {
   "codemirror_mode": {
    "name": "ipython",
    "version": 3
   },
   "file_extension": ".py",
   "mimetype": "text/x-python",
   "name": "python",
   "nbconvert_exporter": "python",
   "pygments_lexer": "ipython3",
   "version": "3.5.1"
  }
 },
 "nbformat": 4,
 "nbformat_minor": 0
}

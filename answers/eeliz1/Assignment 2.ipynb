{
 "cells": [
  {
   "cell_type": "markdown",
   "metadata": {},
   "source": [
    "IMPORTS - 1"
   ]
  },
  {
   "cell_type": "code",
   "execution_count": 3,
   "metadata": {
    "collapsed": true
   },
   "outputs": [],
   "source": [
    "import numpy"
   ]
  },
  {
   "cell_type": "markdown",
   "metadata": {},
   "source": [
    "This imports the entire numpy module, allowing for it to be quickly accessed and utilized.  However, to reference things from the module you must use the prefix \"numpy.\""
   ]
  },
  {
   "cell_type": "markdown",
   "metadata": {},
   "source": [
    "from numpy import *"
   ]
  },
  {
   "cell_type": "markdown",
   "metadata": {},
   "source": [
    "This brings all of the public objects from numpy into the current namespace as local references. This allows you to call things from the module without the prefix \"numpy\""
   ]
  },
  {
   "cell_type": "markdown",
   "metadata": {},
   "source": [
    "from numpy import random"
   ]
  },
  {
   "cell_type": "markdown",
   "metadata": {},
   "source": [
    "This will import only the function \"random\" from numpy, not the rest of the module. "
   ]
  },
  {
   "cell_type": "markdown",
   "metadata": {},
   "source": [
    "2"
   ]
  },
  {
   "cell_type": "markdown",
   "metadata": {},
   "source": [
    "Presuming that you want to import all of numpy, the best one to use is simply \"import numpy\" as it will allow you to use the module.  Being required to use the prefix numpy is preferred in most cases as it avoids confusion.  However, if you are importing only one function, \"from numpy import random\" would be preferred.\n",
    "\n",
    "\n",
    "*Sources* http://stackoverflow.com/questions/5956627/python-import ; https://docs.python.org/3/reference/import.html Accessed 20 Jan 16\n"
   ]
  },
  {
   "cell_type": "markdown",
   "metadata": {},
   "source": [
    "3"
   ]
  },
  {
   "cell_type": "markdown",
   "metadata": {},
   "source": [
    "\"from numpy import random\" imports the random function from numpy, allows you to use that rather than the built in standard random."
   ]
  },
  {
   "cell_type": "code",
   "execution_count": 5,
   "metadata": {
    "collapsed": false
   },
   "outputs": [
    {
     "ename": "AttributeError",
     "evalue": "module 'numpy.random' has no attribute 'randrange'",
     "output_type": "error",
     "traceback": [
      "\u001b[1;31m---------------------------------------------------------------------------\u001b[0m",
      "\u001b[1;31mAttributeError\u001b[0m                            Traceback (most recent call last)",
      "\u001b[1;32m<ipython-input-5-be7c473654ce>\u001b[0m in \u001b[0;36m<module>\u001b[1;34m()\u001b[0m\n\u001b[1;32m----> 1\u001b[1;33m \u001b[0mrandom\u001b[0m\u001b[1;33m.\u001b[0m\u001b[0mrandrange\u001b[0m\u001b[1;33m(\u001b[0m\u001b[1;36m5\u001b[0m\u001b[1;33m)\u001b[0m\u001b[1;33m\u001b[0m\u001b[0m\n\u001b[0m",
      "\u001b[1;31mAttributeError\u001b[0m: module 'numpy.random' has no attribute 'randrange'"
     ]
    }
   ],
   "source": [
    "random.randrange(5)"
   ]
  },
  {
   "cell_type": "markdown",
   "metadata": {},
   "source": [
    "PATHS - 1"
   ]
  },
  {
   "cell_type": "markdown",
   "metadata": {},
   "source": [
    "The path is \"C:\\Users\\Elisa\\Desktop\\Info pinpoint"
   ]
  },
  {
   "cell_type": "markdown",
   "metadata": {},
   "source": [
    "2"
   ]
  },
  {
   "cell_type": "markdown",
   "metadata": {},
   "source": [
    "The path would just be \"C:\\\" because this is where the path originates, i.e. the root."
   ]
  },
  {
   "cell_type": "markdown",
   "metadata": {},
   "source": [
    "3"
   ]
  },
  {
   "cell_type": "markdown",
   "metadata": {},
   "source": [
    "$PATH controls the path the computer will search through.  When an executable command is entered, the computer will search for the file first in the working directory, then in adjacent folders in a manner which can be specified.\n",
    "\n",
    "*Source* https://en.wikipedia.org/wiki/PATH_(variable)"
   ]
  },
  {
   "cell_type": "markdown",
   "metadata": {},
   "source": [
    "4"
   ]
  },
  {
   "cell_type": "markdown",
   "metadata": {},
   "source": [
    "$PYTHONPATH searches through python for modules (either standard or imported).\n",
    "\n",
    "*Source* http://stackoverflow.com/questions/19917492/how-to-use-pythonpath"
   ]
  },
  {
   "cell_type": "markdown",
   "metadata": {},
   "source": [
    "MODULES - 1"
   ]
  },
  {
   "cell_type": "markdown",
   "metadata": {},
   "source": [
    "The SciPy module is used for scientific computing and it builds upon NumPy.  It consists of a package of tools for analyzing various analytical uses.  The components included in the initial installation include python, NumPy, SciPy library, Matplotlib, iPython, pandas, Sympy, and nose.  This allows us to do a broad range of things in python, from linear algebra to image processing.  I think that SciPy will be one of the modules I use frequently in this course, as it caters (albeit broadly) to the needs of a biologist.  I am particularly interested in learning about the spatial data structures and how I may use matplot for application in my research.  For example, I might define locations points from birds I have transmitted and use convex hull to view the area in which they are moving.  This would allow me to assess the landscape level use of an area by the birds."
   ]
  },
  {
   "cell_type": "code",
   "execution_count": null,
   "metadata": {
    "collapsed": true
   },
   "outputs": [],
   "source": []
  }
 ],
 "metadata": {
  "kernelspec": {
   "display_name": "Python 3",
   "language": "python",
   "name": "python3"
  },
  "language_info": {
   "codemirror_mode": {
    "name": "ipython",
    "version": 3
   },
   "file_extension": ".py",
   "mimetype": "text/x-python",
   "name": "python",
   "nbconvert_exporter": "python",
   "pygments_lexer": "ipython3",
   "version": "3.5.1"
  }
 },
 "nbformat": 4,
 "nbformat_minor": 0
}

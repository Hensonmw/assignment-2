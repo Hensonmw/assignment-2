{
 "cells": [
  {
   "cell_type": "code",
   "execution_count": null,
   "metadata": {
    "collapsed": true
   },
   "outputs": [],
   "source": [
    "Running python"
   ]
  },
  {
   "cell_type": "code",
   "execution_count": null,
   "metadata": {
    "collapsed": true
   },
   "outputs": [],
   "source": [
    "First way to execute the given command is by using print function"
   ]
  },
  {
   "cell_type": "code",
   "execution_count": 1,
   "metadata": {
    "collapsed": false
   },
   "outputs": [
    {
     "name": "stdout",
     "output_type": "stream",
     "text": [
      "Python sys.version_info(major=3, minor=5, micro=1, releaselevel='final', serial=0)\n",
      "Hello world\n"
     ]
    }
   ],
   "source": [
    "import sys\n",
    "\n",
    "print(\"Python {}\".format(sys.version_info))\n",
    "print(\"Hello world\")"
   ]
  },
  {
   "cell_type": "code",
   "execution_count": null,
   "metadata": {
    "collapsed": false
   },
   "outputs": [],
   "source": [
    "Second way to execute the given command is copy it in text editor and save it  as .py file (first.py) and use %run function."
   ]
  },
  {
   "cell_type": "code",
   "execution_count": 48,
   "metadata": {
    "collapsed": false,
    "scrolled": false
   },
   "outputs": [
    {
     "name": "stdout",
     "output_type": "stream",
     "text": [
      "Python sys.version_info(major=3, minor=5, micro=1, releaselevel='final', serial=0)\n",
      "Hello world\n"
     ]
    }
   ],
   "source": [
    "%run /Users/pramodpantha/Desktop/first first.py\n"
   ]
  },
  {
   "cell_type": "code",
   "execution_count": null,
   "metadata": {
    "collapsed": true
   },
   "outputs": [],
   "source": [
    "Credit: http://stackoverflow.com/questions/1522564/how-do-i-run-a-python-program (accessed 20 Jan, 2016)"
   ]
  },
  {
   "cell_type": "code",
   "execution_count": null,
   "metadata": {
    "collapsed": true
   },
   "outputs": [],
   "source": [
    "Third way is to use exec function "
   ]
  },
  {
   "cell_type": "code",
   "execution_count": 78,
   "metadata": {
    "collapsed": false,
    "scrolled": true
   },
   "outputs": [
    {
     "ename": "FileNotFoundError",
     "evalue": "[Errno 2] No such file or directory: '/Users/pramodpantha/Desktop/first first.py'",
     "output_type": "error",
     "traceback": [
      "\u001b[1;31m---------------------------------------------------------------------------\u001b[0m",
      "\u001b[1;31mFileNotFoundError\u001b[0m                         Traceback (most recent call last)",
      "\u001b[1;32m<ipython-input-78-0e98502528f5>\u001b[0m in \u001b[0;36m<module>\u001b[1;34m()\u001b[0m\n\u001b[1;32m----> 1\u001b[1;33m \u001b[0mexec\u001b[0m\u001b[1;33m(\u001b[0m\u001b[0mopen\u001b[0m\u001b[1;33m(\u001b[0m\u001b[1;34m\"/Users/pramodpantha/Desktop/first first.py\"\u001b[0m\u001b[1;33m)\u001b[0m\u001b[1;33m.\u001b[0m\u001b[0mread\u001b[0m\u001b[1;33m(\u001b[0m\u001b[1;33m)\u001b[0m\u001b[1;33m)\u001b[0m\u001b[1;33m\u001b[0m\u001b[0m\n\u001b[0m",
      "\u001b[1;31mFileNotFoundError\u001b[0m: [Errno 2] No such file or directory: '/Users/pramodpantha/Desktop/first first.py'"
     ]
    }
   ],
   "source": [
    "exec(open(\"/Users/pramodpantha/Desktop/first first.py\").read())"
   ]
  },
  {
   "cell_type": "code",
   "execution_count": 79,
   "metadata": {
    "collapsed": false,
    "scrolled": true
   },
   "outputs": [
    {
     "ename": "FileNotFoundError",
     "evalue": "[Errno 2] No such file or directory: '/users/pramodpantha/desktop/third_way third_way.py'",
     "output_type": "error",
     "traceback": [
      "\u001b[1;31m---------------------------------------------------------------------------\u001b[0m",
      "\u001b[1;31mFileNotFoundError\u001b[0m                         Traceback (most recent call last)",
      "\u001b[1;32m<ipython-input-79-159ae19ae6c7>\u001b[0m in \u001b[0;36m<module>\u001b[1;34m()\u001b[0m\n\u001b[1;32m----> 1\u001b[1;33m \u001b[0mexec\u001b[0m\u001b[1;33m(\u001b[0m\u001b[0mopen\u001b[0m\u001b[1;33m(\u001b[0m\u001b[1;34m'/users/pramodpantha/desktop/third_way third_way.py'\u001b[0m\u001b[1;33m)\u001b[0m\u001b[1;33m.\u001b[0m\u001b[0mread\u001b[0m\u001b[1;33m(\u001b[0m\u001b[1;33m)\u001b[0m\u001b[1;33m)\u001b[0m\u001b[1;33m\u001b[0m\u001b[0m\n\u001b[0m",
      "\u001b[1;31mFileNotFoundError\u001b[0m: [Errno 2] No such file or directory: '/users/pramodpantha/desktop/third_way third_way.py'"
     ]
    }
   ],
   "source": [
    "exec(open('/users/pramodpantha/desktop/third_way third_way.py').read())"
   ]
  },
  {
   "cell_type": "code",
   "execution_count": null,
   "metadata": {
    "collapsed": true
   },
   "outputs": [],
   "source": [
    "I found problem executing the third way, I checked my first.py and third_way.py both files are in the desktop and this exec function is not working for me. I found one post while googling but it didn't help either.Here is the link: http://stackoverflow.com/questions/18244135/python-execopenfile-py-read-reports-error-no-such-file-or-directory"
   ]
  },
  {
   "cell_type": "code",
   "execution_count": 58,
   "metadata": {
    "collapsed": true
   },
   "outputs": [],
   "source": [
    "import numpy"
   ]
  },
  {
   "cell_type": "code",
   "execution_count": null,
   "metadata": {
    "collapsed": true
   },
   "outputs": [],
   "source": [
    "brings that module as a whole into the namespace, but to access definitions from that module we have to give a qualified\n",
    "name, for example as values = numpy.array([1.0, 2.0, 3.0])\n",
    "You cannot simply use the word array.  \n",
    "\n",
    "Credit: https://mail.python.org/pipermail/tutor/2007-November/058454.html (accessed 20, Jan 2016)"
   ]
  },
  {
   "cell_type": "code",
   "execution_count": 61,
   "metadata": {
    "collapsed": true
   },
   "outputs": [],
   "source": [
    "from numpy import *"
   ]
  },
  {
   "cell_type": "code",
   "execution_count": null,
   "metadata": {
    "collapsed": true
   },
   "outputs": [],
   "source": [
    "This will import all the functions named within the module including the random function\n",
    "Credit: http://stackoverflow.com/questions/21714315/how-to-call-a-numpy-random-function-when-numpy-is-imported-and-random-is-non (accessed 20 Jan, 2016)"
   ]
  },
  {
   "cell_type": "code",
   "execution_count": 60,
   "metadata": {
    "collapsed": true
   },
   "outputs": [],
   "source": [
    "from numpy import random"
   ]
  },
  {
   "cell_type": "code",
   "execution_count": null,
   "metadata": {
    "collapsed": true
   },
   "outputs": [],
   "source": [
    "This is importing the random module from Python's standard library\n",
    "Credit: http://stackoverflow.com/questions/21714315/how-to-call-a-numpy-random-function-when-numpy-is-imported-and-random-is-non (accessed 20 Jan, 2016)"
   ]
  },
  {
   "cell_type": "code",
   "execution_count": null,
   "metadata": {
    "collapsed": true
   },
   "outputs": [],
   "source": [
    "Which of the above do you think is preferred? Why?"
   ]
  },
  {
   "cell_type": "code",
   "execution_count": null,
   "metadata": {
    "collapsed": true
   },
   "outputs": [],
   "source": [
    "The advantage of the from numpy import syntax is mostly convenience but the new definition\n",
    "would override the other definition. So, the better style is import numpy precisely\n",
    "becuase it does not automatically introduce many other definitions into our current namespace.\n",
    "Credit: https://mail.python.org/pipermail/tutor/2007-November/058454.html (accessed 20 Jan, 2016)"
   ]
  },
  {
   "cell_type": "code",
   "execution_count": null,
   "metadata": {
    "collapsed": true
   },
   "outputs": [],
   "source": [
    "What happens to the stdlib module random if you run from numpy import random? "
   ]
  },
  {
   "cell_type": "code",
   "execution_count": null,
   "metadata": {
    "collapsed": true
   },
   "outputs": [],
   "source": [
    "This will overwite the stdlib random module."
   ]
  },
  {
   "cell_type": "markdown",
   "metadata": {},
   "source": [
    "Paths\n",
    "Path to file in the desktop: \\Users\\pramodpantha\\Desktop\\file\n",
    "\n",
    "Path to file in the root directory: C:\\Users\\pramodpantha\\file\n",
    "\n",
    "On your computer, there is a setting/variable called $PATH. What does that setting do?:\n",
    "path specifies the directories in which executable programs are located on the machine that can be started without knowing and typing the whole path to the file on the command line\n",
    "Credit: http://superuser.com/questions/284342/what-are-path-and-other-environment-variables-and-how-can-i-set-or-use-them (accessed: 20 Jan, 2016)\n",
    "\n",
    "On your computer, there is a setting/variable called $PYTHONPATH. What does that setting do?\n",
    "Setting the PYTHONPATH environment variable is an easy way to make Python modules available for import from any directory. It is typically used during early development, before we write a  setup.py module for our package and use it to install your package into a Python installation.\n",
    "Credit: https://support.enthought.com/hc/en-us/articles/204469160-How-do-I-set-PYTHONPATH-and-other-environment-variables-for-Canopy- (accessed: 20 Jan, 2016)\n"
   ]
  },
  {
   "cell_type": "code",
   "execution_count": null,
   "metadata": {
    "collapsed": true
   },
   "outputs": [],
   "source": [
    "Modules\n",
    "The Biopython Project is an international association of developers of freely available Python tools for computational molecular biology. Basically, the goal of Biopython is to make it as easy as possible to use Python for bioinformatics by creating high-quality, reusable modules and classes. Biopython features include parsers for various Bioinformatics file formats (BLAST, Clustalw, FASTA, Genbank, etc.), access to online services (NCBI, Expasy, etc.), interfaces to common and not-so-common programs (Clustalw, DSSP, MSMS, etc.), a standard sequence class, various clustering modules, a KD tree data structure etc. and even documentation.\n",
    "The main Biopython releases have lots of functionality, including: The ability to parse bioinformatics files into Python utilizable data structures, including support for the Blast output – both from standalone and WWW Blast, Clustalw, FASTA, GenBank, PubMed and Medline, UniGene, SwissProt etc. Files in the supported formats can be iterated over record by record or indexed and accessed via a Dictionary interface.\n",
    "Code to deal with popular on-line bioinformatics destinations such as: NCBI and ExPASy– Swiss-Prot and Prosite entries, as well as Prosite searches.\n",
    "Interfaces to common bioinformatics programs such as: standalone Blast from NCBI, Clustalw alignment program. I have selected one simple example from Biopython tutorial and ccokbook.\n",
    " Credit: http://biopython.org/DIST/docs/tutorial/Tutorial.html#htoc2 (accessed: 20 Jan, 2016)\n",
    "        "
   ]
  },
  {
   "cell_type": "code",
   "execution_count": 67,
   "metadata": {
    "collapsed": false
   },
   "outputs": [
    {
     "data": {
      "text/plain": [
       "Seq('AGTACACTGGT', Alphabet())"
      ]
     },
     "execution_count": 67,
     "metadata": {},
     "output_type": "execute_result"
    }
   ],
   "source": [
    "from Bio.Seq import Seq\n",
    "my_seq = Seq(\"AGTACACTGGT\")\n",
    "my_seq"
   ]
  }
 ],
 "metadata": {
  "kernelspec": {
   "display_name": "Python 3",
   "language": "python",
   "name": "python3"
  },
  "language_info": {
   "codemirror_mode": {
    "name": "ipython",
    "version": 3
   },
   "file_extension": ".py",
   "mimetype": "text/x-python",
   "name": "python",
   "nbconvert_exporter": "python",
   "pygments_lexer": "ipython3",
   "version": "3.5.1"
  }
 },
 "nbformat": 4,
 "nbformat_minor": 0
}

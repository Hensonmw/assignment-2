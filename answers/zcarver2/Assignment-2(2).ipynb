{
 "cells": [
  {
   "cell_type": "code",
   "execution_count": 3,
   "metadata": {
    "collapsed": true
   },
   "outputs": [],
   "source": [
    "#three additional ways of running Python (aside from Jupyter) is in \"Spyder\", \"Powershell\", and via command prompt."
   ]
  },
  {
   "cell_type": "code",
   "execution_count": 5,
   "metadata": {
    "collapsed": false
   },
   "outputs": [
    {
     "name": "stdout",
     "output_type": "stream",
     "text": [
      "Python sys.version_info(major=3, minor=5, micro=1, releaselevel='final', serial=0)\n",
      "Hello world\n"
     ]
    }
   ],
   "source": [
    "\"\"\"\n",
    "my first little program\n",
    "\n",
    "Created by Brant Faircloth on 18 Jan 2016.\n",
    "Copyright 2016 Brant C. Faircloth. All rights reserved.\n",
    "\n",
    "\"\"\"\n",
    "\n",
    "import sys\n",
    "\n",
    "print(\"Python {}\".format(sys.version_info))\n",
    "print(\"Hello world\")"
   ]
  },
  {
   "cell_type": "markdown",
   "metadata": {},
   "source": [
    "Numpy imports\n",
    "1) how are the imports different? 'import numpy' will bring the module as a whole into the 'namespace' however to access a given funtion the names of deffinitions must be designated 'value = numpy.array([1,2,3])' ; 'from numpy import' allows for the module deffinition to be called upon without designation 'value = array([1,2,3])' ; 'from numpy import random' references module deffinition 'random' where it can be used as an object in a different program.\n",
    "2) which is preferred? why? the most seemingly simple and direct line is 'import numpy' but also lends to the fact objects in a program could be accounted for instead of using 'from numpy import random' where 'random' can be called upon without designating the module such as 'numpy.random'....\n",
    "3) what happens to stdlib module random if 'from numpy import random' is ran? example. from the standard library the module 'random' would be overwritten once 'from numpy import random' as simply shown below...\n"
   ]
  },
  {
   "cell_type": "code",
   "execution_count": 9,
   "metadata": {
    "collapsed": false
   },
   "outputs": [
    {
     "data": {
      "text/plain": [
       "<module 'random' from 'C:\\\\Users\\\\Zac\\\\Anaconda3\\\\lib\\\\random.py'>"
      ]
     },
     "execution_count": 9,
     "metadata": {},
     "output_type": "execute_result"
    }
   ],
   "source": [
    "import random\n",
    "random"
   ]
  },
  {
   "cell_type": "code",
   "execution_count": 10,
   "metadata": {
    "collapsed": false
   },
   "outputs": [
    {
     "data": {
      "text/plain": [
       "<module 'numpy.random' from 'C:\\\\Users\\\\Zac\\\\Anaconda3\\\\lib\\\\site-packages\\\\numpy\\\\random\\\\__init__.py'>"
      ]
     },
     "execution_count": 10,
     "metadata": {},
     "output_type": "execute_result"
    }
   ],
   "source": [
    "from numpy import random\n",
    "random"
   ]
  },
  {
   "cell_type": "markdown",
   "metadata": {},
   "source": [
    "Path\n",
    "1) what is the path to the file on the desktop just created? 'C:\\Users\\Zac\\Desktop\\Metagross'\n",
    "2) if the file was created in the root directory? 'C:\\Windows\\Metagross'\n",
    "3) setting/variable PATH is used by the operating system to locate needed executable files\n",
    "http://java.com/en/download/help/path.xml\n",
    "4) setting/variable PYTHONPATH is the list of folders that the import will look thru when executing a module name.\n",
    "https://yuji.wordpress.com/2009/08/31/python-on-windows-setting-pythonpath-environment-variable/"
   ]
  },
  {
   "cell_type": "markdown",
   "metadata": {},
   "source": [
    "Modules\n",
    "\n",
    "'bisect' is a basic bisection algorithm which maintains lists in sorted orders without having the need to sort a given list after each insertion. Functions included are 'bisect.bisect_left(a, x, lo=0, hi-len(a))' which locates the point for x in a. If x is already in a then the insertion point will lie before any previous entries. The return value assumes that a has already been sorted, thus, 'list.insert()' is suitable. The returned insertion point 'i' partitions the array into a left half, 'all(val < x for val in a[lo:i])', and a right, 'all(val >= x for val in a[i:hi])'. Conversly 'bisect.bisect(a, x, lo=0, hi=len(a)), halves the array and returns the insertion point after previous entries of x in a. 'bisect.insort_left(a, x, lo=0, hi=len(a))' and 'bisect.insort_right(a, x, lo=0, hi=len(a))' insert x into a in sorted order assuming that a is already sorted; the former inserts x before existing entries and the latter after existing entries of x.\n",
    "https://docs.python.org/3/library/bisect.html"
   ]
  }
 ],
 "metadata": {
  "kernelspec": {
   "display_name": "Python 3",
   "language": "python",
   "name": "python3"
  },
  "language_info": {
   "codemirror_mode": {
    "name": "ipython",
    "version": 3
   },
   "file_extension": ".py",
   "mimetype": "text/x-python",
   "name": "python",
   "nbconvert_exporter": "python",
   "pygments_lexer": "ipython3",
   "version": "3.5.1"
  }
 },
 "nbformat": 4,
 "nbformat_minor": 0
}

{
 "cells": [
  {
   "cell_type": "markdown",
   "metadata": {},
   "source": [
    "##Question 2: IMPORTS\n",
    "1. import numpy - imports numpy functions and its submodules and can only be accessed using numpy.(function name)namespace. For    eg: For example numpy.array([2,3,4]).\n",
    "   from numpy import* - imports every function in the numpy module into the local script’s namespace. For eg: array([2,3,4]\n",
    "   from numpy import random – imports built-in random module and not numpy.random. This can be used as for eg: random(10,100)\n",
    "\n",
    "2.import numpy is preferred in order to avoid overlapping function names. If you do import random, “random” function is in stdlib but if you do from numpy import random, it will import “numpy.random” function.\n",
    "\n",
    "3. I think if you run from numpy import random, the random function in the stdlib will be overwritten and will have to use numpy.random command. Some where in the code if there is RANDOM module, then that Python script probably won’t work because of name conflict.\n",
    "However, I am not too sure. I tried the following and both worked:\n",
    "import random\n",
    "random.randint(1,10) ##Output: 9\n",
    "from numpy import random\n",
    "random.randint(1,10) ##Output: 4\n",
    "\n",
    "Credit: M4rtini Credit URL: http://stackoverflow.com/questions/21714315/how-to-call-a-numpy-random-function-when-numpy-is-imported-and-random-is-non Date accessed: 1/20/2016\n",
    "Credit: Don van der Drift, Data Science Manager at Quora Credit URL: https://www.quora.com/What-is-the-difference-between-import-numpy-and-from-numpy-import-* Date accessed: 1/20/2016\n",
    "Credit: Ffisegydd Credit URL: http://stackoverflow.com/questions/23977524/pythons-random-module-made-inaccessible Date accessed: 1/20/2016"
   ]
  },
  {
   "cell_type": "markdown",
   "metadata": {},
   "source": [
    "##Question 3: PATHS\n",
    "Paths are really important. Paths are also really confusing and they can be really frustrating, because the term path can actually have a couple of different meanings.\n",
    "a. On your computer, create a file on the Desktop. What's the path to that file (e.g. the file path)?\n",
    "created test.py\n",
    "Path to this file:\n",
    "C:\\Users\\Shraddha\\Desktop\n",
    "\n",
    "b. If you created a file in the root directory of your computer, what would that file path be?\n",
    "Path would be: SystemRoot=C:\\WINDOWS\n",
    "\n",
    "c. On your computer, there is a setting/variable called $PATH. What does that setting do?\n",
    "$PATH tells the computer where the directory is for an executable file in the computer and we can run that\n",
    "command/file without knowing the whole path to the file. Example: Running calculator program from run command.\n",
    "credit url: http://superuser.com/questions/284342/what-are-path-and-other-environment-variables-and-how-can-i-set-or-use-them\n",
    "Date accessed: 1/20/2016\n",
    "PATH is used by the shell (program that takes your commands from the keyboard and gives them to the operating system to perform) to determine which executables to run.\n",
    "Credit: Richard\n",
    "Credit urls: http://stackoverflow.com/questions/19917492/how-to-use-pythonpath, http://linuxcommand.org/lts0010.php\n",
    "Date accessed: 1/20/2016\n",
    "\n",
    "d. On your computer, there is a setting/variable called $PYTHONPATH. What does that setting do?\n",
    "PYTHONPATH sets the search path for importing python modules by Python interpreter.\n",
    "Credit: Richard\n",
    "Credit urls: http://stackoverflow.com/questions/19917492/how-to-use-pythonpath\n",
    "Date accessed: 1/20/2016\n"
   ]
  },
  {
   "cell_type": "markdown",
   "metadata": {},
   "source": [
    "Question 4: MODULES\n",
    "    Of the third part Python modules I looked at, I would probably use Biopython. It is a freely available third party Python module that is very useful for computational biologist. It supplies “resuable libraries that help answer questions of interest, instead of focusing on the internals of parsing a particular file format”. Parsing bioinformatics files from one format to another is always frustrating so BioPython takes care of this problem by changing them into Python usable data structures. Additionally, this module helps manipulate sequences (DNA, RNA or protein) to extract useful information such as sequence length, transcribed RNA sequence, protein coded, extract publicly available sequence data for data analysis and comparison. It also provides interface to alignment program like Clustalw. Although I have used variety of data analysis packages for my experiment, I may use BioPython for aligning sequences, find the protein coded by a particular RNA sequence of interest and also extract bioinformatics data sets available online. \n",
    "Below is an example I thought was something I could do with the aligned DNA sequences. This is copied directly from the website:\n",
    ">>> from Bio.Tools import Transcribe\n",
    ">>> transcriber = Transcribe.unambiguous_transcriber\n",
    ">>> my_rna_seq = transcriber.transcribe(my_seq)\n",
    ">>> print my_rna_seq\n",
    "Seq('GAUCGAUGGGCCUAUAUAGGAUCGAAAAUCGC', IUPACUnambiguousRNA())\n",
    "\n",
    "You can further use Bio.Tools Translate to get the translated protein sequence. \n",
    "Bio.AlignIO also looks useful for my alignment purpose. This is a new multiple sequence Alignment Input/Output interface for BioPython.\n",
    "Credit URLs: http://www.bioinformatics.org/bradstuff/bp/tut/Tutorial002.html, http://biopython.org/wiki/AlignIO\n",
    "Date accessed: 1/20/2016\n"
   ]
  }
 ],
 "metadata": {
  "kernelspec": {
   "display_name": "Python 3",
   "language": "python",
   "name": "python3"
  },
  "language_info": {
   "codemirror_mode": {
    "name": "ipython",
    "version": 3
   },
   "file_extension": ".py",
   "mimetype": "text/x-python",
   "name": "python",
   "nbconvert_exporter": "python",
   "pygments_lexer": "ipython3",
   "version": "3.5.1"
  }
 },
 "nbformat": 4,
 "nbformat_minor": 0
}

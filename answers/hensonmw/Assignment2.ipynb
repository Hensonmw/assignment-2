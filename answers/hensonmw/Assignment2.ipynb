{
 "cells": [
  {
   "cell_type": "markdown",
   "metadata": {},
   "source": [
    "# Assignment-2 \n",
    "Running the code "
   ]
  },
  {
   "cell_type": "code",
   "execution_count": 10,
   "metadata": {
    "collapsed": false
   },
   "outputs": [
    {
     "name": "stdout",
     "output_type": "stream",
     "text": [
      "Python sys.version_info(major=3, minor=5, micro=1, releaselevel='final', serial=0)\n",
      "Hello world\n"
     ]
    }
   ],
   "source": [
    "#!/usr/bin/env python\n",
    "# encoding: utf-8\n",
    "\n",
    "\"\"\"\n",
    "my first little program\n",
    "\n",
    "Created by Brant Faircloth on 18 Jan 2016.\n",
    "Copyright 2016 Brant C. Faircloth. All rights reserved.\n",
    "\n",
    "\"\"\"\n",
    "\n",
    "import sys\n",
    "\n",
    "print(\"Python {}\".format(sys.version_info))\n",
    "print(\"Hello world\")\n",
    "\n",
    "#This works because I am essentially running the raw code in the interactive mode rather then through a script\n"
   ]
  },
  {
   "cell_type": "code",
   "execution_count": 30,
   "metadata": {
    "collapsed": false
   },
   "outputs": [
    {
     "name": "stdout",
     "output_type": "stream",
     "text": [
      "Python sys.version_info(major=3, minor=5, micro=1, releaselevel='final', serial=0)\n",
      "Hello world\n"
     ]
    }
   ],
   "source": [
    "run smallfile"
   ]
  },
  {
   "cell_type": "code",
   "execution_count": 15,
   "metadata": {
    "collapsed": false
   },
   "outputs": [
    {
     "name": "stdout",
     "output_type": "stream",
     "text": [
      "Python sys.version_info(major=3, minor=5, micro=1, releaselevel='final', serial=0)\n",
      "Hello world\n"
     ]
    }
   ],
   "source": [
    "exec(open('smallfile').read())\n",
    "\n",
    "## See : http://stackoverflow.com/questions/18244135/python-execopenfile-py-read-reports-error-no-such-file-or-directory\n",
    "## https://docs.python.org/3/library/functions.html#exec\n",
    "## and https://docs.python.org/2.0/ref/exec.html for where I got help \n",
    "## Also check out the uploaded Python book "
   ]
  },
  {
   "cell_type": "markdown",
   "metadata": {
    "collapsed": true
   },
   "source": [
    "What does is all mean?"
   ]
  },
  {
   "cell_type": "code",
   "execution_count": 18,
   "metadata": {
    "collapsed": true
   },
   "outputs": [],
   "source": [
    "import numpy\n",
    "## This imports only the module and allows you to access the code within. Meaning if you wanted to call a \n",
    "## code you would need to say numpy.<name of execution>\n",
    "## See https://docs.python.org/3/reference/import.html"
   ]
  },
  {
   "cell_type": "code",
   "execution_count": 20,
   "metadata": {
    "collapsed": true
   },
   "outputs": [],
   "source": [
    "from numpy import *  \n",
    "## you are asking it to \"look\" within the module numpy and import all its differnt executions from within\n",
    "##This would load everything even the programs you didn't  need. "
   ]
  },
  {
   "cell_type": "code",
   "execution_count": 21,
   "metadata": {
    "collapsed": true
   },
   "outputs": [],
   "source": [
    "from numpy import random\n",
    "## Now you are asking it use numpy and import its code called random. This is a specific way to call a \n",
    "## execution from within numpy within importing them all like you did from the above call. \n",
    "## See https://mail.python.org/pipermail/tutor/2007-November/058454.html"
   ]
  },
  {
   "cell_type": "markdown",
   "metadata": {},
   "source": [
    "If you are writing a shell for a process in which you are using multiple tasks within a module then you would want to use the import numpy command. This would ensure that all your packages are loaded and that you don't have to call the 30 of 400 commands that you are specifically calling. However, in smaller cases it may be easier to just use the from numpy important X command where X is whatever tool you are using. "
   ]
  },
  {
   "cell_type": "code",
   "execution_count": 2,
   "metadata": {
    "collapsed": false
   },
   "outputs": [
    {
     "data": {
      "text/plain": [
       "<module 'random' from '/Users/Winslow/anaconda/envs/conda3/lib/python3.5/random.py'>"
      ]
     },
     "execution_count": 2,
     "metadata": {},
     "output_type": "execute_result"
    }
   ],
   "source": [
    "import random\n",
    "random"
   ]
  },
  {
   "cell_type": "code",
   "execution_count": 5,
   "metadata": {
    "collapsed": false
   },
   "outputs": [
    {
     "data": {
      "text/plain": [
       "<module 'numpy.random' from '/Users/Winslow/anaconda/envs/conda3/lib/python3.5/site-packages/numpy/random/__init__.py'>"
      ]
     },
     "execution_count": 5,
     "metadata": {},
     "output_type": "execute_result"
    }
   ],
   "source": [
    "from numpy import random\n",
    "random"
   ]
  },
  {
   "cell_type": "markdown",
   "metadata": {},
   "source": [
    "What happens is if you just run import random because random is a module itself inside the stdlib then it wil find that library and run random. However, within NumPy, random is built into the code. So if you say from NumPy import random you then go to the NumPy module and run the tool random which is from within the NumPy module. If you look above you can see that the PATH is different for both of the %random calls."
   ]
  },
  {
   "cell_type": "markdown",
   "metadata": {},
   "source": [
    "# Modules\n",
    "\n",
    "SciPy (http://docs.scipy.org/doc/#) is an python module used for science computing. By importing SciPy you are building on the commonly used NumPy module as well as others, but specifically puts together a package of tools for clustering (e.g. hierarchal clustering and K-means), linearl algebra, pearson correlations, spearman rank correlations, ttests, etc. This can provide lots of tools necessary to do \n",
    "\n",
    "For example, when sampling for microbial ecology projects, we often take a suite of nutrient samples along with community based 16S rRNA gene amplicon sequencing. The nutrients may be made of anywhere from a standard 4 (NO3, NO2, PO4, SiO3) to 20 different macro and micro nutrients. These nutrients could be run from anywhere from 3-200 different sites. However, we are not just interested in the nutrient data and how in structures our sites, we are also interested in the microbial community and how nutrients help influence their structure between and among sites. Together this can consists of many variables that need to be analyzed together. One important tool that could be used in SciPy is pearson correlations. This could help point us to imporant operational taxonomic units (OTUs) that are significantly correlated to nutrient factors. This could be bost negatively or postively. \n",
    "An example is taking an OTU count table (X) and a nutrient table (Y) and wanting to test if any of the nutrients are significally correlated to OTU counts. \n",
    "We could then run:\n",
    "\n",
    "%from scipy import stats\n",
    "\n",
    "%scipy.stats.pearsonr(X, Y)\n",
    "\n",
    "This would return stats that would tell rank a OTU and nutrient on a +1 to -1 scale. A +1 or -1 tells us that that ntureint and OTU have a exact linear relationship and would therefore be highly negative or postively correlated. Further, there would be a P value that tells us the signifcance of that relation ship. alpha of under 0.05 is general considered significant. \n",
    "\n",
    "\n",
    "SEE: https://wiki.python.org/moin/NumericAndScientific\n",
    "http://www.scipy.org/getting-started.html"
   ]
  },
  {
   "cell_type": "code",
   "execution_count": 23,
   "metadata": {
    "collapsed": false
   },
   "outputs": [
    {
     "data": {
      "text/plain": [
       "(0.70295964325301019, 0.051792080414149851)"
      ]
     },
     "execution_count": 23,
     "metadata": {},
     "output_type": "execute_result"
    }
   ],
   "source": [
    "x= [22, 55, 0 , 0, 33, 4000, 1, 2]\n",
    "y= [2, 2, 2, 4, 5, 6, 2, 3]\n",
    "import scipy\n",
    "scipy.stats.pearsonr(x, y)"
   ]
  },
  {
   "cell_type": "markdown",
   "metadata": {
    "collapsed": true
   },
   "source": [
    "In this simple example here, I listed X, my OTU table, as 1 OTU that as a count of [ 22, 55, 0 , 0, 33, 4000, 1, 2 ] across 7 sites. Y, my Nut table, as 1 Nutrient that has values of [2, 2, 2, 4, 5, 6, 2, 3] across those same 7 sites. The output I get is 0.7 say that these two variables are postive correlated, but that in terms of signifcance it is not signifcant. "
   ]
  },
  {
   "cell_type": "code",
   "execution_count": null,
   "metadata": {
    "collapsed": true
   },
   "outputs": [],
   "source": []
  }
 ],
 "metadata": {
  "kernelspec": {
   "display_name": "Python 3",
   "language": "python",
   "name": "python3"
  },
  "language_info": {
   "codemirror_mode": {
    "name": "ipython",
    "version": 3
   },
   "file_extension": ".py",
   "mimetype": "text/x-python",
   "name": "python",
   "nbconvert_exporter": "python",
   "pygments_lexer": "ipython3",
   "version": "3.5.1"
  }
 },
 "nbformat": 4,
 "nbformat_minor": 0
}

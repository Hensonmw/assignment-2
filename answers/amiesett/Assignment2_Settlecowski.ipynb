{
 "cells": [
  {
   "cell_type": "markdown",
   "metadata": {},
   "source": [
    "Amie Settlecowski\n",
    "Assignment 2\n",
    "21 Jan. 2016\n",
    "**If you are going to run the code in this notebook, please move the files short.py and python_poem.txt (in biolprogramming/assignment-2/answers/amiesett) into the directory jupyter notebook launches from on your computer"
   ]
  },
  {
   "cell_type": "markdown",
   "metadata": {},
   "source": [
    "Running Python\n",
    "I copied the program and saved it as a python script, short.py\n",
    "1. I executed it in the python shell: short_program1_settlecowski.py\n",
    "source: http://stackoverflow.com/questions/436198/what-is-an-alternative-to-execfile-in-python-3-0 (accessed 19 Jan. 2016)\n",
    "\n",
    "2. I executed it in powershell by calling python and the program with its complete path. See short_program2_settlecowski.jpeg.\n",
    "\n",
    "3. I executed it in jupyter. See below and short_program3_settlecowski.jpeg.\n",
    "source: http://stackoverflow.com/questions/11744181/running-python-script-inside-ipython (accessed 19 Jan. 2016)"
   ]
  },
  {
   "cell_type": "code",
   "execution_count": 19,
   "metadata": {
    "collapsed": false
   },
   "outputs": [
    {
     "name": "stdout",
     "output_type": "stream",
     "text": [
      "Python sys.version_info(major=3, minor=5, micro=1, releaselevel='final', serial=0)\n",
      "Hello world\n"
     ]
    }
   ],
   "source": [
    "%run short.py"
   ]
  },
  {
   "cell_type": "markdown",
   "metadata": {},
   "source": [
    "Imports Source: https://docs.python.org/3/tutorial/modules.html (accessed 19 Jan. 2016)\n",
    "1. The module numpy includes a bunch of functions. Using \"from numpy import random\", you are only importing functions associated with the class random so you will not be able to call any function from the module numpy not in the random class. See in the cell immediately below I cannot use the array function from the numpy module, but in the next cell I can use a function associated with the random class I imported."
   ]
  },
  {
   "cell_type": "code",
   "execution_count": 20,
   "metadata": {
    "collapsed": false
   },
   "outputs": [
    {
     "ename": "NameError",
     "evalue": "name 'numpy' is not defined",
     "output_type": "error",
     "traceback": [
      "\u001b[1;31m---------------------------------------------------------------------------\u001b[0m",
      "\u001b[1;31mNameError\u001b[0m                                 Traceback (most recent call last)",
      "\u001b[1;32m<ipython-input-20-e367ae81c40e>\u001b[0m in \u001b[0;36m<module>\u001b[1;34m()\u001b[0m\n\u001b[0;32m      1\u001b[0m \u001b[1;32mfrom\u001b[0m \u001b[0mnumpy\u001b[0m \u001b[1;32mimport\u001b[0m \u001b[0mrandom\u001b[0m\u001b[1;33m\u001b[0m\u001b[0m\n\u001b[1;32m----> 2\u001b[1;33m \u001b[0mex\u001b[0m \u001b[1;33m=\u001b[0m \u001b[0mnumpy\u001b[0m\u001b[1;33m.\u001b[0m\u001b[0marray\u001b[0m\u001b[1;33m(\u001b[0m\u001b[1;33m[\u001b[0m\u001b[1;36m1\u001b[0m\u001b[1;33m,\u001b[0m\u001b[1;36m2\u001b[0m\u001b[1;33m,\u001b[0m\u001b[1;36m3\u001b[0m\u001b[1;33m]\u001b[0m\u001b[1;33m)\u001b[0m\u001b[1;33m\u001b[0m\u001b[0m\n\u001b[0m\u001b[0;32m      3\u001b[0m \u001b[0mex\u001b[0m\u001b[1;33m\u001b[0m\u001b[0m\n",
      "\u001b[1;31mNameError\u001b[0m: name 'numpy' is not defined"
     ]
    }
   ],
   "source": [
    "from numpy import random\n",
    "ex = numpy.array([1,2,3])\n",
    "ex"
   ]
  },
  {
   "cell_type": "code",
   "execution_count": 21,
   "metadata": {
    "collapsed": false
   },
   "outputs": [
    {
     "data": {
      "text/plain": [
       "5"
      ]
     },
     "execution_count": 21,
     "metadata": {},
     "output_type": "execute_result"
    }
   ],
   "source": [
    "ex = random.randint(0,11)\n",
    "ex"
   ]
  },
  {
   "cell_type": "markdown",
   "metadata": {},
   "source": [
    "1 continued. If you use \"import numpy\", you need to use the module name to access any given class/function because they are not recognized locally. For example:"
   ]
  },
  {
   "cell_type": "code",
   "execution_count": 22,
   "metadata": {
    "collapsed": false
   },
   "outputs": [
    {
     "data": {
      "text/plain": [
       "array([1, 2, 3])"
      ]
     },
     "execution_count": 22,
     "metadata": {},
     "output_type": "execute_result"
    }
   ],
   "source": [
    "import numpy\n",
    "ex2 = numpy.array([1,2,3])\n",
    "ex2"
   ]
  },
  {
   "cell_type": "markdown",
   "metadata": {},
   "source": [
    "1 continued. If you use \"from numpy import * \" you are importing all of the classes, functions, etc in numpy to your local environment. You do not need to use the module name (numpy) to access any given function. See example below."
   ]
  },
  {
   "cell_type": "code",
   "execution_count": 23,
   "metadata": {
    "collapsed": false
   },
   "outputs": [
    {
     "data": {
      "text/plain": [
       "array([4, 5, 6])"
      ]
     },
     "execution_count": 23,
     "metadata": {},
     "output_type": "execute_result"
    }
   ],
   "source": [
    "from numpy import *\n",
    "ex3 = array([4,5,6])\n",
    "ex3"
   ]
  },
  {
   "cell_type": "markdown",
   "metadata": {},
   "source": [
    "Imports\n",
    "2.Using the from module import * is not great practice because you could potentially overwrite local variables, functions, etc you have defined that are identical to names of classes, functions, etc. in the module you imported and because it makes it more difficult for someone else to read and understand your code. In terms of choosing between the formats (1) import module and (2) from module import function/class, I think it probably depends on the program you are writing. If you know you are only using a couple classes or functions I think it would be better to use (2), especially if you are using them extensively bc then you save yourself the typing out of the module name before each function. E.g.: numpy.random.randint(n,m) versus random.randint(n,m)"
   ]
  },
  {
   "cell_type": "markdown",
   "metadata": {},
   "source": [
    "Imports\n",
    "3.Since I imported random from numpy above, I will not be able to use functions from the stdlib random module, because any random.function will refer to the random class imported from numpy."
   ]
  },
  {
   "cell_type": "code",
   "execution_count": 24,
   "metadata": {
    "collapsed": false
   },
   "outputs": [
    {
     "ename": "AttributeError",
     "evalue": "module 'numpy.random' has no attribute 'randrange'",
     "output_type": "error",
     "traceback": [
      "\u001b[1;31m---------------------------------------------------------------------------\u001b[0m",
      "\u001b[1;31mAttributeError\u001b[0m                            Traceback (most recent call last)",
      "\u001b[1;32m<ipython-input-24-85a189e999f0>\u001b[0m in \u001b[0;36m<module>\u001b[1;34m()\u001b[0m\n\u001b[1;32m----> 1\u001b[1;33m \u001b[0mrandom\u001b[0m\u001b[1;33m.\u001b[0m\u001b[0mrandrange\u001b[0m\u001b[1;33m(\u001b[0m\u001b[1;36m10\u001b[0m\u001b[1;33m)\u001b[0m\u001b[1;33m\u001b[0m\u001b[0m\n\u001b[0m",
      "\u001b[1;31mAttributeError\u001b[0m: module 'numpy.random' has no attribute 'randrange'"
     ]
    }
   ],
   "source": [
    "random.randrange(10)"
   ]
  },
  {
   "cell_type": "markdown",
   "metadata": {},
   "source": [
    "Paths\n",
    "1. the path to the paths1 directory on my desktop: C:\\Users\\PC User\\Desktop\\paths1\\\n",
    "2. path to file paths2.txt in root directory of my laptop: C:\\Windows\\paths2.txt (confused as to why C:\\Windows\\ is consider the root rather than C:\\)\n",
    "source: http://www.mcci.com/mcci-v5/support/howtos3.html (accessed 19 Jan. 2016)\n",
    "3. The Path variable lists the directories where executable files are stored. If a command to execute a program is made in a program or at the command line the computer searches the current working directory for the executable and then searches the directories listed from beginning to the end of the path for the executable. \n",
    "source: https://en.wikipedia.org/wiki/PATH_(variable) (accessed 19 Jan. 2016)\n",
    "4. pythonpath is a list of paths to directories that store python packages  "
   ]
  },
  {
   "cell_type": "markdown",
   "metadata": {},
   "source": [
    "Modules\n",
    "I think understanding the io module will be important moving forward in this class. io is a stdlib module, meaning (I think?) we don't have to import it before using the associated functions. The io module enables us to control input and output when programming in Python. The input can be coming from us or someone else using our program at the command line, from another program or server, or from a file. Similarly the ouput can be printed out to screen, written out to a file, or pushed to another program, etc. There are different categories of input and output: text, binary, and raw. Each category takes in and outputs information in a different format: as strings, bytes, and raw. I think a lot of us work with sequence data and will be mostly using text--that's what I expect for myself anyway. Its clear to analyze and data stored in files, we'll first need to open those. We might want to write in a check point that the file is the one we are looking for by printing to screen the first few lines. We might want to parse the file for certain information and rewrite that out to a new, more condensed file.\n",
    "\n",
    "Sources:\n",
    "https://docs.python.org/3/library/io.html (accessed 20 Jan. 2016)\n",
    "https://en.wikipedia.org/wiki/Input/output (accessed 20 Jan. 2016)\n",
    "https://docs.python.org/3/tutorial/inputoutput.html (accessed 20 Jan. 2016)"
   ]
  },
  {
   "cell_type": "code",
   "execution_count": 25,
   "metadata": {
    "collapsed": false
   },
   "outputs": [
    {
     "name": "stdout",
     "output_type": "stream",
     "text": [
      "Errors should never pass silently.\n",
      "\n",
      "Now is better than never.\n",
      "\n",
      "Although never is often better than *right* now.\n",
      "\n"
     ]
    }
   ],
   "source": [
    "ofile = open('never_python_poem.txt', 'w')    #creating file to rewrite subset of input file by opening new file in write mode\n",
    "with open('python_poem.txt', 'r') as ifile:   #opening file with \"data\" in read mode\n",
    "    if ifile.readable() == 'False':           #checking that ifile is read without error\n",
    "        ifile.close()                         \n",
    "    else:\n",
    "        pass\n",
    "    for line in list(ifile):                  #parsing ifile line by line\n",
    "        if line.find('never') != -1:          #.find searching for substring 'never' within each line\n",
    "            print(line)                       \n",
    "            ofile.write(line)                 #write lines that include 'never' out to ofile \n",
    "ifile.close()                                 #close ifile and ofile\n",
    "ofile.close()  \n",
    "   "
   ]
  },
  {
   "cell_type": "markdown",
   "metadata": {},
   "source": [
    "I think this code above could be analogous to opening some file that contains sequence data for 1 marker for all the species of a family, parsing the file for sequences from a specific genus (i.e. 'never'), and writing a new file .fna or .phy, etc for a subset of the data. "
   ]
  }
 ],
 "metadata": {
  "kernelspec": {
   "display_name": "Python 3",
   "language": "python",
   "name": "python3"
  },
  "language_info": {
   "codemirror_mode": {
    "name": "ipython",
    "version": 3
   },
   "file_extension": ".py",
   "mimetype": "text/x-python",
   "name": "python",
   "nbconvert_exporter": "python",
   "pygments_lexer": "ipython3",
   "version": "3.5.1"
  }
 },
 "nbformat": 4,
 "nbformat_minor": 0
}

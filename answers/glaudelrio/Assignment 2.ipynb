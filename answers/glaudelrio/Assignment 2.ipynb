{
 "cells": [
  {
   "cell_type": "code",
   "execution_count": 3,
   "metadata": {
    "collapsed": false
   },
   "outputs": [
    {
     "name": "stdout",
     "output_type": "stream",
     "text": [
      "Python sys.version_info(major=3, minor=5, micro=1, releaselevel='final', serial=0)\n",
      "Hello world\n"
     ]
    }
   ],
   "source": [
    "#Running Python\n",
    "#3rd way of running Python, in the jupyter notebook.\n",
    "#!/usr/bin/env python\n",
    "# encoding: utf-8\n",
    "\n",
    "\"\"\"\n",
    "my first little program\n",
    "\n",
    "Created by Brant Faircloth on 18 Jan 2016.\n",
    "Copyright 2016 Brant C. Faircloth. All rights reserved.\n",
    "\n",
    "\"\"\"\n",
    "\n",
    "import sys\n",
    "\n",
    "print(\"Python {}\".format(sys.version_info))\n",
    "print(\"Hello world\")\n"
   ]
  },
  {
   "cell_type": "markdown",
   "metadata": {},
   "source": [
    "#Imports\n",
    "\n",
    "import numpy\n",
    "from numpy import *\n",
    "from numpy import random\n",
    "\n",
    "\n",
    "1. How are these different from each other? Be specific.\n",
    "First, 'import numpy' besides importing this module, creates a reference to that module, so I can write numpy.name to refer to things or functions defined in this module. Second, 'from numpy import *' will import numpy and also creates reference in the namespace to all public objects defined in the module. Then, you can use just a plain name to refer to things defined in the module. You don't need to use numpy.name. Finally, 'from numpy import random' imports the module and creates a reference to 'random', so you can use this object in your program. In this last case, you also don't need to use numpy.random.\n",
    "\n",
    "2. Which of the above do you think is preferred? Why?\n",
    "I think using just 'import numpy' is prefered, since this will contribute to code clarity. For instance, if you use 'from numpy import random', you will be able to use 'random' allover your code, and this could make complicated to understand from where this object is comming. On the other hand, if you use 'import numpy', this means that everytime you call 'random', you will express that this is inside the 'numpy'module '(numpy.random)'. Furthermore, if you are going to use other functions in the same module, you don't need to import things again. Ultimatelly there is a potential problem of overwriting functions as I am going to explain in the next item.\n",
    "\n",
    "3. What happens to the stdlib module random if you run from numpy import random? Provide an example.\n",
    "It seems to me that as soon as I start using 'random' after this, I will be able to use only numpy 'random' and not stdlib 'random'. As you can see in the screenshot number 3 (RedefiningRandom-ImportTask3), as soon as I use 'from numpy import random', the random module is redefined and after that I am not able to get back to the 'stdlib random'. This could be avoided by importing 'numpy', and using 'numpy.random' always. I show the difference between both 'randoms' below.\n",
    "\n",
    "\n"
   ]
  },
  {
   "cell_type": "code",
   "execution_count": 11,
   "metadata": {
    "collapsed": false
   },
   "outputs": [
    {
     "data": {
      "text/plain": [
       "<module 'random' from 'C:\\\\Users\\\\Glaucia\\\\Anaconda3\\\\lib\\\\random.py'>"
      ]
     },
     "execution_count": 11,
     "metadata": {},
     "output_type": "execute_result"
    }
   ],
   "source": [
    "import random\n",
    "random"
   ]
  },
  {
   "cell_type": "code",
   "execution_count": 12,
   "metadata": {
    "collapsed": false
   },
   "outputs": [
    {
     "data": {
      "text/plain": [
       "<module 'numpy.random' from 'C:\\\\Users\\\\Glaucia\\\\Anaconda3\\\\lib\\\\site-packages\\\\numpy\\\\random\\\\__init__.py'>"
      ]
     },
     "execution_count": 12,
     "metadata": {},
     "output_type": "execute_result"
    }
   ],
   "source": [
    "from numpy import random\n",
    "random"
   ]
  },
  {
   "cell_type": "markdown",
   "metadata": {},
   "source": [
    "#Paths\n",
    "\n",
    "1. On your computer, create a file on the Desktop. What's the path to that file (e.g. the file path)?\n",
    "\"C:\\Users\\Glaucia\\Desktop\\Isotopes\"\n",
    "\n",
    "2. If you created a file in the root directory of your computer, what would that file path be?\n",
    "\"C:\\Windows\\Isotopes\"\n",
    "\n",
    "3. On your computer, there is a setting/variable called $PATH. What does that setting do?\n",
    "This variable shows a set of directories where executable files are located. For example, one of the path that this variable shows in my computer is C:\\Program Files\\Common Files\\Microsoft Shared\\Windows Live.\n",
    "\n",
    "4. On your computer, there is a setting/variable called PYTHONPATH. What does that setting do?\n",
    "In my computer, probably a Windows thing, this variable is not recognized. So, I created a PYTHONPATH variable in the Advanced Settings of my computer. However I cannot find PYTHONPATH anyway. On the internet, I found the following explanation: \"It has a role similar to PATH. This variable tells the Python interpreter where to locate the module files imported into a program. It should include the Python source library directory and the directories containing Python source code. \"\n"
   ]
  },
  {
   "cell_type": "code",
   "execution_count": 4,
   "metadata": {
    "collapsed": false
   },
   "outputs": [
    {
     "name": "stdout",
     "output_type": "stream",
     "text": [
      "data = [5, 10, 15, 20, 25, 30, 35]\n",
      "data mean = 20.0\n",
      "data median = 20\n",
      "data low median = 20\n",
      "even data set =  (1, 3, 5, 7)\n",
      "even data set low median = 3\n",
      "data high median = 20\n",
      "even data set high median = 5\n",
      "data standard deviation = 10.801234497346433\n",
      "data variance = 116.66666666666667\n",
      "data population standard deviation =  10.0\n",
      "data population variance =  100.0\n"
     ]
    }
   ],
   "source": [
    "#Modules\n",
    "\"\"\"\n",
    "The module I picked is 'statistics', whose source is the Lib/statistics.py. \n",
    "This is going to be a valuable module for me to analyze raw data in terms of basic measurements as mean, median, standard deviation and variance. \n",
    "This is going to be valuable during the course to allow basic calculations and data management. \n",
    "Furthermore, its functions support integer, float, decimal and fractions, allowing all sorts of numeric inputs. \n",
    "Some examples of functions are:\n",
    "\n",
    "\"\"\"\n",
    "#Importing the module\n",
    "import statistics\n",
    "\n",
    "#Data\n",
    "data = ([5,10,15,20,25,30,35])\n",
    "print(\"data =\",data)\n",
    "\n",
    "#AVERAGES AND MEASURES OF CENTRAL LOCATION:\n",
    "#Arithmetic mean of data:\n",
    "print(\"data mean =\", statistics.mean(data))\n",
    "\n",
    "#Middle value (median) of data:\n",
    "print(\"data median =\",statistics.median(data))\n",
    "\n",
    "#Low median: is always a member of the data set. When the number of data points is odd the middle value is returned. When it is even,\n",
    "#the smaller of the two data points is returned:\n",
    "print(\"data low median =\",statistics.median_low(data))\n",
    "#Example with a dataset with even number of data points:\n",
    "print(\"even data set = \", (1,3,5,7))\n",
    "print(\"even data set low median =\",statistics.median_low([1,3,5,7]))\n",
    "\n",
    "#Median high: when the number of points in the data set is odd, this function will return the middle value. When the number of data points\n",
    "#is even, it will return the highest of the two middle points.\n",
    "print(\"data high median =\",statistics.median_high(data))\n",
    "#Example with a dataset with even number of data points:\n",
    "print(\"even data set high median =\",statistics.median_high([1,3,5,7]))\n",
    "\n",
    "#MEASURES OF SPREAD:\n",
    "#Sample standard deviation\n",
    "print(\"data standard deviation =\", statistics.stdev(data))\n",
    "\n",
    "#Variance\n",
    "print(\"data variance =\",statistics.variance(data))\n",
    "\n",
    "#There is also another measurement of standard deviation, the population standard deviation:\n",
    "print(\"data population standard deviation = \",statistics.pstdev(data,mu=None))\n",
    "\n",
    "#And the population variance of data. In this function there is also the argument mu, that corresponds to the mean of data. If mu is\n",
    "#not assigned or is 'None', than the men is also calculated by this function.\n",
    "print(\"data population variance = \",statistics.pvariance(data))\n",
    "\n",
    "#Taken from: Documentation » The Python Standard Library » 9. Numeric and Mathematical Modules » 9.7. statistics — Mathematical statistics functions\n",
    "#https://docs.python.org/3/library/statistics.html"
   ]
  },
  {
   "cell_type": "code",
   "execution_count": null,
   "metadata": {
    "collapsed": true
   },
   "outputs": [],
   "source": []
  }
 ],
 "metadata": {
  "kernelspec": {
   "display_name": "Python 3",
   "language": "python",
   "name": "python3"
  },
  "language_info": {
   "codemirror_mode": {
    "name": "ipython",
    "version": 3
   },
   "file_extension": ".py",
   "mimetype": "text/x-python",
   "name": "python",
   "nbconvert_exporter": "python",
   "pygments_lexer": "ipython3",
   "version": "3.5.1"
  }
 },
 "nbformat": 4,
 "nbformat_minor": 0
}

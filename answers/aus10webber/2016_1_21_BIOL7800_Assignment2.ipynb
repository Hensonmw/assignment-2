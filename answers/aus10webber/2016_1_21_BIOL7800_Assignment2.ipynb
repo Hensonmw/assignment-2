{
 "cells": [
  {
   "cell_type": "code",
   "execution_count": 1,
   "metadata": {
    "collapsed": true
   },
   "outputs": [],
   "source": [
    "# Running Python\n",
    "\n",
    "# Figure out 3 ways to run a python script\n",
    "# These 3 are in 2 .png files\n"
   ]
  },
  {
   "cell_type": "code",
   "execution_count": 3,
   "metadata": {
    "collapsed": true
   },
   "outputs": [],
   "source": [
    "# Imports\n",
    "\n",
    "\n",
    "import numpy\n",
    "from numpy import *\n",
    "from numpy import random\n",
    "\n",
    "# 1.) How are these different from each other\n",
    "# 2.) Which is preferred? Why?\n",
    "# 3.) What happens to stdlib module 'random' if 3rd option runs? Example\n",
    "\n",
    "\n",
    "# Task 1\n",
    "\n",
    "\n",
    "# 'import' is used to import a module. A reference is built to that module in the current namespace.\n",
    "#  This allows one to refer to specifics within the module numpy by 'numpy.x'\n",
    "\n",
    "# 'from numpy import *' imports the module and references the module to all other namespaces that are public.\n",
    "# This doesn't allow 'numpy.x' to work, but you can just refer to 'x' in order to run.\n",
    "\n",
    "# 'from numpy import random' is much like the one above, but defines the specific object you want to define. \n",
    "# this would allow you to run 'random', but not 'numpy.random'\n",
    "# The '*' designates 'all', while this way specifies which object you want specifically.\n",
    "\n",
    "\n",
    "\n",
    "# Task 2\n",
    "\n",
    "\n",
    "# 'import' is preferred by most because the full module will be imported. \n",
    "# This is a personal choice, but using the 'import' statement seems the safest to me. \n",
    "# It uses more memory by importing things you don't need, but I think it's easier to write code by 'module.name' rather than 'name'\n",
    "\n",
    "\n",
    "\n",
    "# http://effbot.org/zone/import-confusion.htm\n"
   ]
  },
  {
   "cell_type": "code",
   "execution_count": 9,
   "metadata": {
    "collapsed": false
   },
   "outputs": [],
   "source": [
    "# Task 3\n",
    "\n",
    "\n",
    "# Rather than typing 'numpy.random' you can run the command 'random'\n",
    "# This also changes the path to where the module is located\n"
   ]
  },
  {
   "cell_type": "code",
   "execution_count": 6,
   "metadata": {
    "collapsed": false
   },
   "outputs": [
    {
     "data": {
      "text/plain": [
       "<module 'random' from 'C:\\\\Users\\\\Austen\\\\Anaconda3\\\\lib\\\\random.py'>"
      ]
     },
     "execution_count": 6,
     "metadata": {},
     "output_type": "execute_result"
    }
   ],
   "source": [
    "import random\n",
    "random"
   ]
  },
  {
   "cell_type": "code",
   "execution_count": 7,
   "metadata": {
    "collapsed": false
   },
   "outputs": [
    {
     "data": {
      "text/plain": [
       "<module 'numpy.random' from 'C:\\\\Users\\\\Austen\\\\Anaconda3\\\\lib\\\\site-packages\\\\numpy\\\\random\\\\__init__.py'>"
      ]
     },
     "execution_count": 7,
     "metadata": {},
     "output_type": "execute_result"
    }
   ],
   "source": [
    "from numpy import random\n",
    "random"
   ]
  },
  {
   "cell_type": "code",
   "execution_count": 10,
   "metadata": {
    "collapsed": true
   },
   "outputs": [],
   "source": [
    "# Paths\n",
    "\n",
    "# Created a folder on the desktop for this class\n",
    "# \\Users\\Austen\\Desktop\\BIOL7800\\\n",
    "\n",
    "# In the root directory the folder would look like:\n",
    "# C:\\\\BIOL7800\n",
    "\n",
    "# PATH is used by the computer to find executables\n",
    "\n",
    "# PYTHONPATH is used strictly by python to find modules\n",
    "\n",
    "\n",
    "# http://stackoverflow.com/questions/19917492/how-to-use-pythonpath"
   ]
  },
  {
   "cell_type": "code",
   "execution_count": 11,
   "metadata": {
    "collapsed": true
   },
   "outputs": [],
   "source": [
    "# Modules\n",
    "\n",
    "\n",
    "# Statistics\n",
    "\n",
    "import statistics\n",
    "\n",
    "# Statistics seems like a pretty basic package. \n",
    "# It simply includes many functions that are useful when running statistical analysis on data sets of any size. \n",
    "# Some of the basic functions include mean, median, mode, standard deviation, and variance of the data sets. \n",
    "# There are also functions for population standard deviation and population variance. \n",
    "# These functions will indicate how much the sample deviates from the average values. \n",
    "# These functions work with any set of numbers and do not have to be in order. \n",
    "# Here are some basic examples:\n",
    "\n"
   ]
  },
  {
   "cell_type": "code",
   "execution_count": 12,
   "metadata": {
    "collapsed": false
   },
   "outputs": [
    {
     "data": {
      "text/plain": [
       "6.0"
      ]
     },
     "execution_count": 12,
     "metadata": {},
     "output_type": "execute_result"
    }
   ],
   "source": [
    "# This will print the median of any data set given.\n",
    "# If an even number of values exists, then it will average the two middle values and print the mean of them.\n",
    "\n",
    "statistics.median([1,5,7,9])"
   ]
  },
  {
   "cell_type": "code",
   "execution_count": 13,
   "metadata": {
    "collapsed": false
   },
   "outputs": [
    {
     "data": {
      "text/plain": [
       "7"
      ]
     },
     "execution_count": 13,
     "metadata": {},
     "output_type": "execute_result"
    }
   ],
   "source": [
    "# If you do not want the average, you can use two other functions to print the low and high medians of the data.\n",
    "\n",
    "\n",
    "statistics.median_high([1,5,7,9])"
   ]
  },
  {
   "cell_type": "code",
   "execution_count": 14,
   "metadata": {
    "collapsed": false
   },
   "outputs": [
    {
     "data": {
      "text/plain": [
       "5"
      ]
     },
     "execution_count": 14,
     "metadata": {},
     "output_type": "execute_result"
    }
   ],
   "source": [
    "statistics.median_low([1,5,7,9])"
   ]
  },
  {
   "cell_type": "code",
   "execution_count": 15,
   "metadata": {
    "collapsed": false
   },
   "outputs": [
    {
     "ename": "StatisticsError",
     "evalue": "no unique mode; found 4 equally common values",
     "output_type": "error",
     "traceback": [
      "\u001b[1;31m---------------------------------------------------------------------------\u001b[0m",
      "\u001b[1;31mStatisticsError\u001b[0m                           Traceback (most recent call last)",
      "\u001b[1;32m<ipython-input-15-1a52dc8e4303>\u001b[0m in \u001b[0;36m<module>\u001b[1;34m()\u001b[0m\n\u001b[0;32m      1\u001b[0m \u001b[1;31m# The mode is also easily displayed in the same way as the median\u001b[0m\u001b[1;33m\u001b[0m\u001b[1;33m\u001b[0m\u001b[0m\n\u001b[0;32m      2\u001b[0m \u001b[1;33m\u001b[0m\u001b[0m\n\u001b[1;32m----> 3\u001b[1;33m \u001b[0mstatistics\u001b[0m\u001b[1;33m.\u001b[0m\u001b[0mmode\u001b[0m\u001b[1;33m(\u001b[0m\u001b[1;33m[\u001b[0m\u001b[1;36m1\u001b[0m\u001b[1;33m,\u001b[0m\u001b[1;36m5\u001b[0m\u001b[1;33m,\u001b[0m\u001b[1;36m7\u001b[0m\u001b[1;33m,\u001b[0m\u001b[1;36m9\u001b[0m\u001b[1;33m]\u001b[0m\u001b[1;33m)\u001b[0m\u001b[1;33m\u001b[0m\u001b[0m\n\u001b[0m",
      "\u001b[1;32mC:\\Users\\Austen\\Anaconda3\\lib\\statistics.py\u001b[0m in \u001b[0;36mmode\u001b[1;34m(data)\u001b[0m\n\u001b[0;32m    432\u001b[0m     \u001b[1;32melif\u001b[0m \u001b[0mtable\u001b[0m\u001b[1;33m:\u001b[0m\u001b[1;33m\u001b[0m\u001b[0m\n\u001b[0;32m    433\u001b[0m         raise StatisticsError(\n\u001b[1;32m--> 434\u001b[1;33m                 \u001b[1;34m'no unique mode; found %d equally common values'\u001b[0m \u001b[1;33m%\u001b[0m \u001b[0mlen\u001b[0m\u001b[1;33m(\u001b[0m\u001b[0mtable\u001b[0m\u001b[1;33m)\u001b[0m\u001b[1;33m\u001b[0m\u001b[0m\n\u001b[0m\u001b[0;32m    435\u001b[0m                 )\n\u001b[0;32m    436\u001b[0m     \u001b[1;32melse\u001b[0m\u001b[1;33m:\u001b[0m\u001b[1;33m\u001b[0m\u001b[0m\n",
      "\u001b[1;31mStatisticsError\u001b[0m: no unique mode; found 4 equally common values"
     ]
    }
   ],
   "source": [
    "# The mode is also easily displayed in the same way as the median\n",
    "# However, when there is not one common value, an error message is raised\n",
    "\n",
    "statistics.mode([1,5,7,9])"
   ]
  },
  {
   "cell_type": "code",
   "execution_count": 16,
   "metadata": {
    "collapsed": false
   },
   "outputs": [
    {
     "data": {
      "text/plain": [
       "9"
      ]
     },
     "execution_count": 16,
     "metadata": {},
     "output_type": "execute_result"
    }
   ],
   "source": [
    "# This is corrected by adding a duplicate of one of the numbers\n",
    "\n",
    "statistics.mode([1,5,7,9,9])"
   ]
  },
  {
   "cell_type": "code",
   "execution_count": 18,
   "metadata": {
    "collapsed": false
   },
   "outputs": [
    {
     "data": {
      "text/plain": [
       "'apple'"
      ]
     },
     "execution_count": 18,
     "metadata": {},
     "output_type": "execute_result"
    }
   ],
   "source": [
    "# Mode also works for lists of nominal values.\n",
    "# This can be extremely useful when working with large lists when you are interested in common values\n",
    "\n",
    "statistics.mode([\"apple\",\"apple\",\"banana\",\"grape\",\"orange\"])"
   ]
  },
  {
   "cell_type": "code",
   "execution_count": 20,
   "metadata": {
    "collapsed": false
   },
   "outputs": [
    {
     "name": "stdout",
     "output_type": "stream",
     "text": [
      "[1, 5, 7, 9, 9]\n"
     ]
    }
   ],
   "source": [
    "# You can also save some of the outputs as whatever variable you would like\n",
    "\n",
    "# First, let's make a string of numbers\n",
    "\n",
    "data = [1,5,7,9,9]\n",
    "print(data)"
   ]
  },
  {
   "cell_type": "code",
   "execution_count": 21,
   "metadata": {
    "collapsed": false
   },
   "outputs": [
    {
     "name": "stdout",
     "output_type": "stream",
     "text": [
      "6.2\n"
     ]
    }
   ],
   "source": [
    "# Then, we can run the same commands, but save the outputs as other variables.\n",
    "\n",
    "mean = statistics.mean(data)\n",
    "print(mean)\n",
    "\n",
    "# This is the same as before but now you can save certain outputs and then change the data being imput. "
   ]
  },
  {
   "cell_type": "code",
   "execution_count": 22,
   "metadata": {
    "collapsed": false
   },
   "outputs": [
    {
     "data": {
      "text/plain": [
       "3.3466401061363023"
      ]
     },
     "execution_count": 22,
     "metadata": {},
     "output_type": "execute_result"
    }
   ],
   "source": [
    "# The standard deviation follows the same format as the median and mode\n",
    "\n",
    "statistics.stdev(data)"
   ]
  },
  {
   "cell_type": "code",
   "execution_count": 24,
   "metadata": {
    "collapsed": false
   },
   "outputs": [
    {
     "data": {
      "text/plain": [
       "11.2"
      ]
     },
     "execution_count": 24,
     "metadata": {},
     "output_type": "execute_result"
    }
   ],
   "source": [
    "# The variance also follows the same format\n",
    "\n",
    "statistics.variance(data)"
   ]
  },
  {
   "cell_type": "code",
   "execution_count": 30,
   "metadata": {
    "collapsed": false
   },
   "outputs": [
    {
     "data": {
      "text/plain": [
       "11.19921875"
      ]
     },
     "execution_count": 30,
     "metadata": {},
     "output_type": "execute_result"
    }
   ],
   "source": [
    "# It is important to nate that the mean is recalculated every time the standard deviation and variance are run\n",
    "# You can change the mean by including it after the data\n",
    "\n",
    "datatest=[1,27893,8382028]\n",
    "\n",
    "meantest = statistics.mean(datatest)\n",
    "\n",
    "statistics.variance(data, meantest)\n",
    "\n",
    "# While the change isn't significant, the variance is calculated using the mean supplied. \n",
    "\n",
    "# https://docs.python.org/3/library/statistics.html#module-statistics"
   ]
  },
  {
   "cell_type": "code",
   "execution_count": null,
   "metadata": {
    "collapsed": true
   },
   "outputs": [],
   "source": []
  }
 ],
 "metadata": {
  "kernelspec": {
   "display_name": "Python 3",
   "language": "python",
   "name": "python3"
  },
  "language_info": {
   "codemirror_mode": {
    "name": "ipython",
    "version": 3
   },
   "file_extension": ".py",
   "mimetype": "text/x-python",
   "name": "python",
   "nbconvert_exporter": "python",
   "pygments_lexer": "ipython3",
   "version": "3.5.1"
  }
 },
 "nbformat": 4,
 "nbformat_minor": 0
}

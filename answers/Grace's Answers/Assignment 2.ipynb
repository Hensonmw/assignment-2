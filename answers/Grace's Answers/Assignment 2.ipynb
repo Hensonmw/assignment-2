{
 "cells": [
  {
   "cell_type": "markdown",
   "metadata": {},
   "source": [
    "# Imports\n",
    "\n",
    "### 1) \n",
    "\n",
    "`import numpy`\n",
    "\n",
    "Imports the module numpy and all definitions.\n",
    "\n",
    "`from numpy import *` \n",
    "\n",
    "Imports all names defined in numpy except those beginning with _ into the supporting modules symbol table. This \n",
    "does not import the module numpy.\n",
    "\n",
    "`from numpy import random` \n",
    "\n",
    "Imports only the name `random` from numpy. Does not import the module numpy.\n",
    "\n",
    "Reference :https://docs.python.org/3.5/tutorial/modules.html\n",
    "\n",
    "### 2) \n",
    "I think it is prefered to import the part of the module needed. Importing the whole module will take longer, and is not necessary. The `import *` option may hide things already defined and is generally frowned upon.\n",
    "\n",
    "### 3)\n",
    "`from numpy import random` breaks the stdlib `random` module\n",
    "\n",
    "see screen shot of random working before importing the random module, and second screen shot of the same code not working after running `from numpy import random`\n"
   ]
  },
  {
   "cell_type": "markdown",
   "metadata": {
    "collapsed": false
   },
   "source": [
    "# Paths\n",
    "\n",
    "### 1) \n",
    "\n",
    "/Users/gracecagle/Desktop\n",
    "\n",
    "Show file path in finder window:\n",
    "`defaults write com.apple.finder _FXShowPosixPathInTitle -bool true; killall Finder`\n",
    "\n",
    "source code: http://www.tekrevue.com/tip/show-path-finder-title-bar/\n",
    "\n",
    "### 2)\n",
    "\n",
    "root directory: /Users/gracecagle\n",
    "\n",
    "### 3)\n",
    "\n",
    "The $path variable is a list of directories in which to look for programs.\n",
    "\n",
    "source: http://superuser.com/questions/517894/what-is-the-unix-path-variable-and-how-do-i-add-to-it\n",
    "\n",
    "### 4)\n",
    "\n",
    "Similarly, $pythonpath sets the search path for importing python modules.\n",
    "\n",
    "source: http://stackoverflow.com/questions/19917492/how-to-use-pythonpath"
   ]
  },
  {
   "cell_type": "code",
   "execution_count": null,
   "metadata": {
    "collapsed": true
   },
   "outputs": [],
   "source": []
  }
 ],
 "metadata": {
  "kernelspec": {
   "display_name": "Python 3",
   "language": "python",
   "name": "python3"
  },
  "language_info": {
   "codemirror_mode": {
    "name": "ipython",
    "version": 3
   },
   "file_extension": ".py",
   "mimetype": "text/x-python",
   "name": "python",
   "nbconvert_exporter": "python",
   "pygments_lexer": "ipython3",
   "version": "3.5.1"
  }
 },
 "nbformat": 4,
 "nbformat_minor": 0
}

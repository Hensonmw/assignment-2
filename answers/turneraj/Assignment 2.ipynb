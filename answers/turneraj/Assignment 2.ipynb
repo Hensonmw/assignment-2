{
 "cells": [
  {
   "cell_type": "code",
   "execution_count": 9,
   "metadata": {
    "collapsed": false
   },
   "outputs": [
    {
     "name": "stdout",
     "output_type": "stream",
     "text": [
      "Python sys.version_info(major=3, minor=5, micro=1, releaselevel='final', serial=0)\n",
      "Hello world\n"
     ]
    }
   ],
   "source": [
    "#!/usr/bin/env python\n",
    "# encoding: utf-8\n",
    "\n",
    "\"\"\"\n",
    "my first little program\n",
    "\n",
    "Created by Brant Faircloth on 18 Jan 2016.\n",
    "Copyright 2016 Brant C. Faircloth. All rights reserved.\n",
    "\n",
    "\"\"\"\n",
    "\n",
    "import sys\n",
    "\n",
    "print(\"Python {}\".format(sys.version_info))\n",
    "print(\"Hello world\")"
   ]
  },
  {
   "cell_type": "markdown",
   "metadata": {
    "collapsed": false
   },
   "source": [
    "#### I created a text file in jupyter with the lines of code above from the assignment. I had python run the text file, reading the code inside of it to produce the system version information of python being used."
   ]
  },
  {
   "cell_type": "code",
   "execution_count": 1,
   "metadata": {
    "collapsed": false
   },
   "outputs": [
    {
     "name": "stdout",
     "output_type": "stream",
     "text": [
      "Python sys.version_info(major=3, minor=5, micro=1, releaselevel='final', serial=0)\n",
      "Hello world\n"
     ]
    }
   ],
   "source": [
    "%run pythonversion.py"
   ]
  },
  {
   "cell_type": "markdown",
   "metadata": {
    "collapsed": true
   },
   "source": [
    "### Imports\n",
    "\n",
    "#### 1. How are these differnt from each other? Be specific."
   ]
  },
  {
   "cell_type": "code",
   "execution_count": 24,
   "metadata": {
    "collapsed": false
   },
   "outputs": [],
   "source": [
    "import numpy"
   ]
  },
  {
   "cell_type": "markdown",
   "metadata": {},
   "source": [
    "The above command imports the module \"numpy\" - a package containing all definitions and statements regarding the processing of numbers, strings, records, and objects. If you want to access/run a function (item) within a module (such as numpy), you need to  use the module name with the function behind it (i.e., numpy.functionname)."
   ]
  },
  {
   "cell_type": "code",
   "execution_count": 21,
   "metadata": {
    "collapsed": false
   },
   "outputs": [],
   "source": [
    "from numpy import *"
   ]
  },
  {
   "cell_type": "markdown",
   "metadata": {},
   "source": [
    "The above command only imports names of definitions/statements from the numpy module that lack an underscore at the beginning of their name.  For example, it would import \"numpy.itemname\" but not \"numpy._itemname2_\" from the numpy module. This type of import, \\*, is not used because it could potentially bury or overwrite names of functions you've already defined in your codes. Overall, this import isn't typically used. "
   ]
  },
  {
   "cell_type": "code",
   "execution_count": 25,
   "metadata": {
    "collapsed": true
   },
   "outputs": [],
   "source": [
    "from numpy import random"
   ]
  },
  {
   "cell_type": "markdown",
   "metadata": {},
   "source": [
    "This only imports the random function that is found within the numpy module. "
   ]
  },
  {
   "cell_type": "markdown",
   "metadata": {},
   "source": [
    "#### 2. Which of the above do you think is preferred? Why?"
   ]
  },
  {
   "cell_type": "markdown",
   "metadata": {},
   "source": [
    "The entire module, import numpy, would be preferred over the others. This is because it contains all of the definitions/statements/functions witin the numpy module and it will not hide any pre-existing definitions you may have used in your codes."
   ]
  },
  {
   "cell_type": "markdown",
   "metadata": {},
   "source": [
    "Citations: https://pypi.python.org/pypi/numpy (accessed 1/25/2016); http://www.python-course.eu/numpy.php (accessed 1/25/2016)"
   ]
  },
  {
   "cell_type": "markdown",
   "metadata": {},
   "source": [
    "#### 3. What happens to \"stdlib\" module random if you run \"from numpy import random?\" Provide and example."
   ]
  },
  {
   "cell_type": "code",
   "execution_count": 45,
   "metadata": {
    "collapsed": false
   },
   "outputs": [
    {
     "data": {
      "text/plain": [
       "<module 'numpy.random' from 'C:\\\\Users\\\\Alec\\\\Anaconda3\\\\lib\\\\site-packages\\\\numpy\\\\random\\\\__init__.py'>"
      ]
     },
     "execution_count": 45,
     "metadata": {},
     "output_type": "execute_result"
    }
   ],
   "source": [
    "import numpy\n",
    "from numpy import random\n",
    "random"
   ]
  },
  {
   "cell_type": "code",
   "execution_count": 46,
   "metadata": {
    "collapsed": false
   },
   "outputs": [
    {
     "data": {
      "text/plain": [
       "<module 'random' from 'C:\\\\Users\\\\Alec\\\\Anaconda3\\\\lib\\\\random.py'>"
      ]
     },
     "execution_count": 46,
     "metadata": {},
     "output_type": "execute_result"
    }
   ],
   "source": [
    "import random\n",
    "random"
   ]
  },
  {
   "cell_type": "markdown",
   "metadata": {},
   "source": [
    "When you run \"from numpy import random\", the random functions from the standard library (stdlib) are written over by the random function in the numpy module. This means when you want to use the random function, it will be random functions tied to the numpy module (as shown above, \"Out[45]\"). To use random functions from the stdlib, simply 'import random' to reset where the random function comes from so it's not tied to the numpy module. "
   ]
  },
  {
   "cell_type": "markdown",
   "metadata": {},
   "source": [
    "### Paths"
   ]
  },
  {
   "cell_type": "markdown",
   "metadata": {},
   "source": [
    "#### 1. On your computer, create a file on the Desktop. What's the path to that file (e.g. the file path)?\n",
    "\n",
    "‪C:\\Users\\Alec\\Desktop\\python_hw"
   ]
  },
  {
   "cell_type": "markdown",
   "metadata": {},
   "source": [
    "#### 2. If you created a file in the root directory of your computer, what would that file path be?\n",
    "name of hypothetic file = fileIcreated\n",
    "\n",
    "C:\\fileIcreated\n",
    "\n",
    "The root directory is at the top of the file system and contains all other directories and files on the computer. For Windows users, like myself, C:\\ is the root directory. \n",
    "‪"
   ]
  },
  {
   "cell_type": "markdown",
   "metadata": {},
   "source": [
    "#### 3. On your computer, there is a setting/variable called \"$PATH\". What does that setting do?\n",
    "\n",
    "The setting or variable \\$PATH specifies the directory for programs/files that you can run from the command line or with shell scripts (shell = program that reads commands typed into a console). $PATH simply finds the programs you want to run on your computer, and the order of the path determines where your computer looks first.  \n",
    "\n",
    "Citation: http://www.linfo.org/path_env_var.html (accessed 1/25/16)"
   ]
  },
  {
   "cell_type": "markdown",
   "metadata": {
    "collapsed": true
   },
   "source": [
    "#### 4. On your computer, there is a setting/variable called $PYTHONPATH. What does that setting do?\n",
    "\n",
    "The setting/variable \\$PYTHONPATH accesses program files specifically within Python. "
   ]
  },
  {
   "cell_type": "markdown",
   "metadata": {},
   "source": [
    "### Modules"
   ]
  },
  {
   "cell_type": "markdown",
   "metadata": {},
   "source": [
    "#### 1. Pick a module from the Python stdlib or a third-party module. Write a 250 word summary of the purpose of that module and how it might be useful to you as we move through this class. Feel free to do this in iPython and include examples to make your points clearer (or to briefly illustrate what the module does). Feel free also to look at the documentation of that module and/or any online resources, but please cite those.\n",
    "\n",
    "Within the standard library, one useful module is 'textwrap.' This module allows you to keep multiple lines of plain text (or a paragraph) to a maximum user-set value of characters (width). This can come in handy when dealing with long strings of code (something we'll get to in the near future) that would otherwise be tricky to interpret visually, especially if there are window viewing size constraints. Textwrap includes many functions, however, some of the easier ones (at least to me) include the functions width() and fill(). If you happen to make a string of code that exceeds the width of Python's window, said to be 80 characters, you can wrap the text and constrain it to the window size or character length of your choosing. You can do this with the function fill() by importing textwrap and then assigning the string of code to a variable of your choosing (below it is \"assignmenttext\"). Next, you will use the print() function to print the output of the textwrap.fill() function where you include the name of the varialbe (assignmenttext), a comma, and the width parameter you want to set (SEE BELOW). For my example I took the directions for the Module portion of the assignment and wrapped the sting of text so it would be no more than 80 characters per line. \n"
   ]
  },
  {
   "cell_type": "code",
   "execution_count": 25,
   "metadata": {
    "collapsed": false
   },
   "outputs": [
    {
     "name": "stdout",
     "output_type": "stream",
     "text": [
      "Pick a module from the Python stdlib or a third-party module. Write a 250 word\n",
      "summary of the purpose of that module and how it might be useful to you as we\n",
      "move through this class. Feel free to do this in iPython and include examples to\n",
      "make your points clearer (or to briefly illustrate what the module does). Feel\n",
      "free also to look at the documentation of that module and/or any online\n",
      "resources, but please cite those.\n"
     ]
    }
   ],
   "source": [
    "import textwrap\n",
    "assignmenttext = \"Pick a module from the Python stdlib or a third-party module. Write a 250 word summary of the purpose of that module and how it might be useful to you as we move through this class. Feel free to do this in iPython and include examples to make your points clearer (or to briefly illustrate what the module does). Feel free also to look at the documentation of that module and/or any online resources, but please cite those.\"\n",
    "print(textwrap.fill(assignmenttext, width=80))"
   ]
  },
  {
   "cell_type": "markdown",
   "metadata": {},
   "source": [
    "The wrap() function is similar to fill, however, it takes text and turns it into a list of strings that have a set character length. For this example (see below), I took the text of the directions paragraph and turned it into a list of strings where each string in the list only contained a maximum of 5 characters. "
   ]
  },
  {
   "cell_type": "code",
   "execution_count": 32,
   "metadata": {
    "collapsed": false
   },
   "outputs": [
    {
     "name": "stdout",
     "output_type": "stream",
     "text": [
      "['Pick', 'a mod', 'ule', 'from', 'the P', 'ython', 'stdli', 'b or', 'a thi', 'rd-', 'party', 'modul', 'e.', 'Write', 'a 250', 'word ', 'summa', 'ry of', 'the p', 'urpos', 'e of', 'that ', 'modul', 'e and', 'how', 'it', 'might', 'be us', 'eful', 'to', 'you', 'as we', 'move ', 'throu', 'gh', 'this ', 'class', '.', 'Feel', 'free', 'to do', 'this', 'in iP', 'ython', 'and i', 'nclud', 'e exa', 'mples', 'to', 'make', 'your ', 'point', 's cle', 'arer', '(or', 'to br', 'iefly', 'illus', 'trate', 'what', 'the m', 'odule', 'does)', '.', 'Feel', 'free', 'also', 'to', 'look', 'at', 'the d', 'ocume', 'ntati', 'on of', 'that ', 'modul', 'e and', '/or', 'any o', 'nline', 'resou', 'rces,', 'but p', 'lease', 'cite ', 'those', '.']\n"
     ]
    }
   ],
   "source": [
    "import textwrap\n",
    "moretext = \"Pick a module from the Python stdlib or a third-party module. Write a 250 word summary of the purpose of that module and how it might be useful to you as we move through this class. Feel free to do this in iPython and include examples to make your points clearer (or to briefly illustrate what the module does). Feel free also to look at the documentation of that module and/or any online resources, but please cite those.\"\n",
    "print(textwrap.wrap(moretext, width=5))"
   ]
  },
  {
   "cell_type": "markdown",
   "metadata": {},
   "source": [
    "Citation: https://docs.python.org/3/tutorial/stdlib2.html (accessed 1/26/16); http://www.dotnetperls.com/textwrap (accessed 1/26/16); https://docs.python.org/3.1/library/textwrap.html (accessed 1/26/16)"
   ]
  },
  {
   "cell_type": "code",
   "execution_count": null,
   "metadata": {
    "collapsed": true
   },
   "outputs": [],
   "source": []
  }
 ],
 "metadata": {
  "kernelspec": {
   "display_name": "Python 3",
   "language": "python",
   "name": "python3"
  },
  "language_info": {
   "codemirror_mode": {
    "name": "ipython",
    "version": 3
   },
   "file_extension": ".py",
   "mimetype": "text/x-python",
   "name": "python",
   "nbconvert_exporter": "python",
   "pygments_lexer": "ipython3",
   "version": "3.5.1"
  }
 },
 "nbformat": 4,
 "nbformat_minor": 0
}
